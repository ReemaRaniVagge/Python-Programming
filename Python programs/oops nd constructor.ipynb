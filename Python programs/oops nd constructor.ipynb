{
 "cells": [
  {
   "cell_type": "code",
   "execution_count": 2,
   "id": "db7953d5",
   "metadata": {},
   "outputs": [
    {
     "name": "stdout",
     "output_type": "stream",
     "text": [
      "<class 'int'>\n",
      "<class '__main__.computer'>\n"
     ]
    }
   ],
   "source": [
    "\n",
    "#what we keep inside cls?-attributes-variables and behaviour-methods(function)\n",
    "\n",
    "\n",
    "class computer:\n",
    "    def config(self):\n",
    "        print(\"it has 128gb\")\n",
    "    \n",
    "a=9\n",
    "print(type(a))\n",
    "\n",
    "com1=computer()  #it doent have any time..it is like object to the computer and it is like constructor\n",
    "\n",
    "print(type(com1))"
   ]
  },
  {
   "cell_type": "code",
   "execution_count": 7,
   "id": "495eab1b",
   "metadata": {},
   "outputs": [
    {
     "name": "stdout",
     "output_type": "stream",
     "text": [
      "it has 128gb\n",
      "it has 128gb\n",
      "it has 128gb\n",
      "it has 128gb\n"
     ]
    }
   ],
   "source": [
    "#example for methods(functions)\n",
    "#below replace func with methods\n",
    "\n",
    "\n",
    "class computer:\n",
    "    def config(self):\n",
    "        print(\"it has 128gb\")\n",
    "        \n",
    "com1=computer()\n",
    "com2=computer()\n",
    "\n",
    "computer.config(com1)  #how to call the func if it is in class-class.funcname and in inside we should mention which object we r calling\n",
    "\n",
    "computer.config(com2)\n",
    "\n",
    "#another way to call the object i.e above two lines can be written as\n",
    "\n",
    "com1.config()  #here we r using object itself to call the function\n",
    "com2.config()"
   ]
  },
  {
   "cell_type": "code",
   "execution_count": 11,
   "id": "47518334",
   "metadata": {},
   "outputs": [
    {
     "name": "stdout",
     "output_type": "stream",
     "text": [
      "it automatically prints with out calling and for every object it runs for once\n",
      "it automatically prints with out calling and for every object it runs for once\n",
      "config is: 15 18\n",
      "config is: i5 24\n"
     ]
    }
   ],
   "source": [
    "#example for variables\n",
    "#in this ex -we all know computer has cpu and ram so here taking cpu and ram as two variables\n",
    "#to define or initialize variables we use special method called as __init__\n",
    "class computer:\n",
    "    def __init__(self,cpu,ram):\n",
    "        print(\"it automatically prints with out calling and for every object it runs for once\")\n",
    "        self.cpu=cpu   #we should assign the  value ..to the self\n",
    "        self.ram=ram   #we should assign the ram i.e value ..to the object ..here object is self\n",
    "        \n",
    "    def config(self):\n",
    "        print(\"config is:\",self.cpu, self.ram) #ram and cpu belongs to the object it is not local variable\n",
    "        \n",
    "com1=computer('15',18)  #objects and we are passing an arguments i.e cpu and ram\n",
    "com2=computer('i5',24)  #objects\n",
    "\n",
    "\n",
    "com1.config()  #here we r using object itself to call the function\n",
    "com2.config()\n",
    "\n"
   ]
  },
  {
   "cell_type": "code",
   "execution_count": 13,
   "id": "6d7eb7d6",
   "metadata": {},
   "outputs": [
    {
     "name": "stdout",
     "output_type": "stream",
     "text": [
      "hey\n",
      "reema\n"
     ]
    }
   ],
   "source": [
    "#constructor and self\n",
    "#every time u create an object it is allocated to new spacee\n",
    "#size of an object depends on the no.of variables and size of each variable\n",
    "#Constructor allocates size to object\n",
    "\n",
    "#below ex\n",
    "\n",
    "class computer:\n",
    "    def __init__(self):\n",
    "        self.name=\"reema\"   \n",
    "        self.age=18\n",
    "\n",
    "com1=computer()\n",
    "com2=computer()\n",
    "\n",
    "#if u want to change one of the object then\n",
    "\n",
    "com1.name=\"hey\"\n",
    "com1.age=90\n",
    "\n",
    "print(com1.name)\n",
    "print(com2.name)"
   ]
  },
  {
   "cell_type": "code",
   "execution_count": 14,
   "id": "993ee343",
   "metadata": {},
   "outputs": [
    {
     "name": "stdout",
     "output_type": "stream",
     "text": [
      "hey\n",
      "reema\n"
     ]
    }
   ],
   "source": [
    "#self\n",
    "\n",
    "class computer:\n",
    "    def __init__(self):\n",
    "        self.name=\"reema\"   \n",
    "        self.age=18\n",
    "        \n",
    "    def up(self):   #self referring to the object what u r calling for wx if u have 10objects but u refering to the one object\n",
    "        self.age=900\n",
    "        \n",
    "\n",
    "com1=computer()\n",
    "com2=computer()\n",
    "\n",
    "com1.name=\"hey\"\n",
    "com1.age=90\n",
    "\n",
    "if c1.compare(c2)\n",
    "    print(\"they are same\")\n",
    "\n",
    "com1.up()\n",
    "\n",
    "print(com1.name)\n",
    "print(com2.name)"
   ]
  },
  {
   "cell_type": "code",
   "execution_count": 16,
   "id": "0da71c6f",
   "metadata": {},
   "outputs": [
    {
     "name": "stdout",
     "output_type": "stream",
     "text": [
      "they are not same\n",
      "hey\n",
      "reema\n"
     ]
    }
   ],
   "source": [
    "#we r comparing ages \n",
    "#compare(who is calling,whom to compare)\n",
    "\n",
    "class computer:\n",
    "    def __init__(self):\n",
    "        self.name=\"reema\"   \n",
    "        self.age=18\n",
    "        \n",
    "    def compare(self,other):\n",
    "        if  self.age == other.age:\n",
    "            return True\n",
    "        else:\n",
    "            return False\n",
    "        \n",
    "com1=computer()\n",
    "com2=computer()\n",
    "\n",
    "com1.name=\"hey\"\n",
    "com1.age=90\n",
    "\n",
    "if com1.compare(com2):\n",
    "    print(\"they are same\")\n",
    "else:\n",
    "    print(\"they are not same\")\n",
    "\n",
    "    \n",
    "print(com1.name)\n",
    "print(com2.name)"
   ]
  },
  {
   "cell_type": "code",
   "execution_count": 20,
   "id": "19c57af4",
   "metadata": {},
   "outputs": [
    {
     "name": "stdout",
     "output_type": "stream",
     "text": [
      "orange 10\n",
      "red 10\n"
     ]
    }
   ],
   "source": [
    "#types of variables in python-two types-instance variable and class(static) variable\n",
    "\n",
    "class sweets:\n",
    "    #if we define inside init it is instance varaiable\n",
    "    def __init__(self):\n",
    "        self.colour='red'  \n",
    "        self.size=10\n",
    "        #colour and size are instance variables depending upon the sweet it changes\n",
    "        \n",
    "c1=sweets()\n",
    "c2=sweets()\n",
    "c1.colour='orange'   #here if we changing the value it doesnit affect on other values\n",
    "\n",
    "print(c1.colour,c1.size)\n",
    "print(c2.colour,c2.size)"
   ]
  },
  {
   "cell_type": "code",
   "execution_count": 22,
   "id": "b4bb0973",
   "metadata": {},
   "outputs": [
    {
     "name": "stdout",
     "output_type": "stream",
     "text": [
      "orange 10 dree\n",
      "red 10 dree\n"
     ]
    }
   ],
   "source": [
    "#static variable\n",
    "\n",
    "class sweets:\n",
    "    #if we intialize outside init it is static varaiable\n",
    "    use='sugar'  #all sweets have common in it is sweet right so i wrote like that    #class namespace\n",
    "    def __init__(self):\n",
    "        self.colour='red'  #instance name soace\n",
    "        self.size=10\n",
    "        \n",
    "c1=sweets()\n",
    "c2=sweets()\n",
    "c1.colour='orange'   #here if we changing the value it doesnit affect on other values\n",
    "#namespace is an area where you create and store variable/object and it has two tyoes i.e class namespace and object/instance namespace\n",
    "sweets.use=\"dree\"  #here if we changing the value it  affects on other values\n",
    "\n",
    "print(c1.colour,c1.size,c2.use)\n",
    "print(c2.colour,c2.size,c2.use)"
   ]
  },
  {
   "cell_type": "code",
   "execution_count": 25,
   "id": "968fe983",
   "metadata": {},
   "outputs": [
    {
     "name": "stdout",
     "output_type": "stream",
     "text": [
      "43.333333333333336\n",
      "66.0\n"
     ]
    }
   ],
   "source": [
    "#types of methods\n",
    "#3types of methods-class,instance,static\n",
    "#instance method exam-instance variable  can be used with instance methods\n",
    "class student:\n",
    "    school=\"reema\"\n",
    "    def __init__(self,m1,m2,m3):\n",
    "        self.m1=m1\n",
    "        self.m2=m2\n",
    "        self.m3=m3\n",
    "        \n",
    "    def avg(self):  #it is instance method it has two types-accessor and mutator method\n",
    "        return(self.m1+self.m2+self.m3)/3\n",
    "    def getm1(self):   #here we r fetching the value so it is called accessor method\n",
    "        return self.m1\n",
    "    def setm1(self):   #here we r modfying the value so it is called mutator method\n",
    "        return self.m1\n",
    "        \n",
    "s1=student(8,77,45)\n",
    "s2=student(97,56,45)\n",
    "\n",
    "print(s1.avg())\n",
    "print(s2.avg())"
   ]
  },
  {
   "cell_type": "markdown",
   "id": "a3926a3b",
   "metadata": {},
   "source": [
    "\n",
    "\n"
   ]
  },
  {
   "cell_type": "code",
   "execution_count": 26,
   "id": "e964c248",
   "metadata": {},
   "outputs": [
    {
     "name": "stdout",
     "output_type": "stream",
     "text": [
      "43.333333333333336\n",
      "reema\n"
     ]
    }
   ],
   "source": [
    "#class methods-class variable is used in class methods\n",
    "\n",
    "class student:\n",
    "    school=\"reema\"\n",
    "    def __init__(self,m1,m2,m3):\n",
    "        \n",
    "        self.m1=m1\n",
    "        self.m2=m2\n",
    "        self.m3=m3\n",
    "    def avg(self):  \n",
    "        return(self.m1+self.m2+self.m3)/3\n",
    "   #if we want to create class method we use @\n",
    "    @classmethod\n",
    "    def info(cls):  #if u working with instance we use self if we r working with class method we use cls\n",
    "        return cls.school\n",
    "    \n",
    "s1=student(8,77,45)\n",
    "s2=student(97,56,45)\n",
    "\n",
    "print(s1.avg())\n",
    "print(student.info())"
   ]
  },
  {
   "cell_type": "code",
   "execution_count": 29,
   "id": "2b2cb107",
   "metadata": {},
   "outputs": [
    {
     "name": "stdout",
     "output_type": "stream",
     "text": [
      "43.333333333333336\n",
      "reema\n",
      "this is student cls\n"
     ]
    }
   ],
   "source": [
    "#static methods-\n",
    "\n",
    "class student:\n",
    "    school=\"reema\"\n",
    "    def __init__(self,m1,m2,m3):\n",
    "        \n",
    "        self.m1=m1\n",
    "        self.m2=m2\n",
    "        self.m3=m3\n",
    "    def avg(self):  \n",
    "        return(self.m1+self.m2+self.m3)/3\n",
    "    @classmethod\n",
    "    def getschool(cls):  \n",
    "        return cls.school\n",
    "    @staticmethod   #it is decorator\n",
    "    def info():    #here we r not mentioning self or cls coz it is static\n",
    "        print(\"this is student cls\")\n",
    "    \n",
    "    \n",
    "s1=student(8,77,45)\n",
    "s2=student(97,56,45)\n",
    "\n",
    "print(s1.avg())\n",
    "print(student.getschool())\n",
    "student.info()\n"
   ]
  },
  {
   "cell_type": "code",
   "execution_count": null,
   "id": "c1e9b94c",
   "metadata": {},
   "outputs": [],
   "source": []
  }
 ],
 "metadata": {
  "kernelspec": {
   "display_name": "Python 3 (ipykernel)",
   "language": "python",
   "name": "python3"
  },
  "language_info": {
   "codemirror_mode": {
    "name": "ipython",
    "version": 3
   },
   "file_extension": ".py",
   "mimetype": "text/x-python",
   "name": "python",
   "nbconvert_exporter": "python",
   "pygments_lexer": "ipython3",
   "version": "3.9.7"
  }
 },
 "nbformat": 4,
 "nbformat_minor": 5
}
