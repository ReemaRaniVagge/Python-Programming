{
 "cells": [
  {
   "cell_type": "code",
   "execution_count": 1,
   "id": "4b403a82",
   "metadata": {},
   "outputs": [],
   "source": [
    "#polymorphism-object takes multi forms \n",
    "#polymorphism-have 4ways to implement-duck typing,operator overloading ,method overloading,method overriding"
   ]
  },
  {
   "cell_type": "code",
   "execution_count": 9,
   "id": "16a610df",
   "metadata": {},
   "outputs": [
    {
     "name": "stdout",
     "output_type": "stream",
     "text": [
      "spell check\n",
      "errors\n",
      "compiling\n",
      "running\n"
     ]
    }
   ],
   "source": [
    "#duck typing\n",
    "\n",
    "class jupiter:\n",
    "    def execute(self):\n",
    "        print(\"compiling\")\n",
    "        print(\"running\")\n",
    "        \n",
    "        \n",
    "class myeditor:\n",
    "    def execute(self):\n",
    "        print(\"spell check\")\n",
    "        print(\"errors\")\n",
    "        print(\"compiling\")\n",
    "        print(\"running\")\n",
    "    \n",
    "class laptop:\n",
    "    def code(self,ide):\n",
    "        ide.execute()\n",
    "        \n",
    "#ide=jupiter()\n",
    "ide=myeditor()\n",
    "\n",
    "lap1=laptop()\n",
    "lap1.code(ide)"
   ]
  },
  {
   "cell_type": "code",
   "execution_count": 12,
   "id": "aa497550",
   "metadata": {},
   "outputs": [
    {
     "name": "stdout",
     "output_type": "stream",
     "text": [
      "96\n",
      "96\n",
      "9987\n",
      "9987\n"
     ]
    }
   ],
   "source": [
    "\n",
    "\n",
    "a=9\n",
    "b=87\n",
    "print(a+b)\n",
    "print(int.__add__(a,b))\n",
    "\n",
    "a='99'\n",
    "b='87'\n",
    "print(a+b)\n",
    "print(str.__add__(a,b))"
   ]
  },
  {
   "cell_type": "code",
   "execution_count": 16,
   "id": "3ede56ab",
   "metadata": {},
   "outputs": [
    {
     "name": "stdout",
     "output_type": "stream",
     "text": [
      "91\n",
      "124\n"
     ]
    }
   ],
   "source": [
    "#operator overloading\n",
    "\n",
    "class student:\n",
    "    def __init__(self,m1,m2):\n",
    "        self.m1=m1\n",
    "        self.m2=m2\n",
    "        \n",
    "    def __add__(self,other): #here we are overloading the operator as we got error in s1+s2 so we use this\n",
    "        m1=self.m1+other.m1\n",
    "        m2=self.m2+other.m2\n",
    "        h=student(m1,m2)\n",
    "        \n",
    "        return h\n",
    "        \n",
    "s1=student(43,87)\n",
    "s2=student(48,37)\n",
    "h=s1+s2   #here wt hpns means student.__add__(s1,s2) this is how operator overloading works and in place of + we can do it -,*,/...\n",
    "#here plus we are calling __add__()-we have same method name but the arguments are different\n",
    "print(h.m1)\n",
    "print(h.m2)"
   ]
  },
  {
   "cell_type": "code",
   "execution_count": 19,
   "id": "6524e062",
   "metadata": {},
   "outputs": [
    {
     "name": "stdout",
     "output_type": "stream",
     "text": [
      "hey greater\n",
      "91\n",
      "124\n",
      "<__main__.student object at 0x000001FF6910E6A0>\n"
     ]
    }
   ],
   "source": [
    "#another ex\n",
    "\n",
    "class student:\n",
    "    def __init__(self,m1,m2):\n",
    "        self.m1=m1\n",
    "        self.m2=m2\n",
    "    def __gt__(self,other):\n",
    "        r1=self.m1+self.m2\n",
    "        r2=other.m1+other.m2\n",
    "        if r1>r2:\n",
    "            return True\n",
    "        else:\n",
    "            return False\n",
    "    \n",
    "    \n",
    "s1=student(43,87)\n",
    "s2=student(48,37)\n",
    "\n",
    "\n",
    "if s1>s2:\n",
    "    print(\"hey greater\")\n",
    "else:\n",
    "    print(\"hey im a looser\")\n",
    "\n",
    "print(h.m1)\n",
    "print(h.m2)\n",
    "print(s1)"
   ]
  },
  {
   "cell_type": "code",
   "execution_count": 4,
   "id": "1dcabc0f",
   "metadata": {},
   "outputs": [
    {
     "ename": "TypeError",
     "evalue": "sum() missing 1 required positional argument: 'c'",
     "output_type": "error",
     "traceback": [
      "\u001b[1;31m---------------------------------------------------------------------------\u001b[0m",
      "\u001b[1;31mTypeError\u001b[0m                                 Traceback (most recent call last)",
      "\u001b[1;32m~\\AppData\\Local\\Temp/ipykernel_17620/3559987844.py\u001b[0m in \u001b[0;36m<module>\u001b[1;34m\u001b[0m\n\u001b[0;32m     16\u001b[0m \u001b[0ms1\u001b[0m\u001b[1;33m=\u001b[0m\u001b[0mstudent\u001b[0m\u001b[1;33m(\u001b[0m\u001b[1;36m43\u001b[0m\u001b[1;33m,\u001b[0m\u001b[1;36m87\u001b[0m\u001b[1;33m)\u001b[0m\u001b[1;33m\u001b[0m\u001b[1;33m\u001b[0m\u001b[0m\n\u001b[0;32m     17\u001b[0m \u001b[1;33m\u001b[0m\u001b[0m\n\u001b[1;32m---> 18\u001b[1;33m \u001b[0mprint\u001b[0m\u001b[1;33m(\u001b[0m\u001b[0ms1\u001b[0m\u001b[1;33m.\u001b[0m\u001b[0msum\u001b[0m\u001b[1;33m(\u001b[0m\u001b[1;36m5\u001b[0m\u001b[1;33m,\u001b[0m\u001b[1;36m9\u001b[0m\u001b[1;33m)\u001b[0m\u001b[1;33m)\u001b[0m\u001b[1;33m\u001b[0m\u001b[1;33m\u001b[0m\u001b[0m\n\u001b[0m",
      "\u001b[1;31mTypeError\u001b[0m: sum() missing 1 required positional argument: 'c'"
     ]
    }
   ],
   "source": [
    "#method overloading-if we have class in tha class let say two methods have same name but having different paramneter or arguments\n",
    "#for ex in a class having def average(a,b) and def average(a,b,c)\n",
    "#but in python we dont have method overloading\n",
    "\n",
    "class student:\n",
    "    def __init__(self,m1,m2):\n",
    "        self.m1=m1\n",
    "        self.m2=m2\n",
    "        \n",
    "    def sum(self,a,b,c):\n",
    "        s=a+b+c\n",
    "        \n",
    "        return s\n",
    "        \n",
    "        \n",
    "s1=student(43,87)\n",
    "\n",
    "print(s1.sum(5,9)) #here error is we r passing two arguments rather than three"
   ]
  },
  {
   "cell_type": "code",
   "execution_count": 5,
   "id": "af74b36d",
   "metadata": {},
   "outputs": [],
   "source": []
  },
  {
   "cell_type": "code",
   "execution_count": 9,
   "id": "98468e41",
   "metadata": {},
   "outputs": [
    {
     "name": "stdout",
     "output_type": "stream",
     "text": [
      "130\n"
     ]
    }
   ],
   "source": [
    "#we r solving above error\n",
    "class student:\n",
    "    def __init__(self,m1,m2):\n",
    "        self.m1=m1\n",
    "        self.m2=m2\n",
    "        \n",
    "    def sum(self,a=None,b=None,c=None):\n",
    "        \n",
    "        if a!=None and b!=None and c!=None:\n",
    "            s=a+b+c\n",
    "        elif a!=None and b!=None:\n",
    "            s=a+b\n",
    "        else:\n",
    "            s=a\n",
    "        return s\n",
    "        \n",
    "        \n",
    "s1=student(43,87)\n",
    "\n",
    "print(s1.sum(43,87))"
   ]
  },
  {
   "cell_type": "code",
   "execution_count": 4,
   "id": "e1ead32a",
   "metadata": {},
   "outputs": [
    {
     "name": "stdout",
     "output_type": "stream",
     "text": [
      "b is printing\n"
     ]
    }
   ],
   "source": [
    "#method overriding-if we have class in tha class let say two methods have same name but having same paramneter or arguments by using inheriatnace\n",
    "\n",
    "class A:\n",
    "    \n",
    "    def show(self):\n",
    "        print(\"a is printing\")\n",
    "class B(A):\n",
    "    def show(self):     #if i not mentioning def and just wrote pass then it will inhertits from a but when i mention def it overrides the class a\n",
    "        \n",
    "        print(\"b is printing\")\n",
    "\n",
    "a1=B()\n",
    "a1.show()"
   ]
  },
  {
   "cell_type": "code",
   "execution_count": null,
   "id": "1dfb30bf",
   "metadata": {},
   "outputs": [],
   "source": []
  }
 ],
 "metadata": {
  "kernelspec": {
   "display_name": "Python 3 (ipykernel)",
   "language": "python",
   "name": "python3"
  },
  "language_info": {
   "codemirror_mode": {
    "name": "ipython",
    "version": 3
   },
   "file_extension": ".py",
   "mimetype": "text/x-python",
   "name": "python",
   "nbconvert_exporter": "python",
   "pygments_lexer": "ipython3",
   "version": "3.9.7"
  }
 },
 "nbformat": 4,
 "nbformat_minor": 5
}
