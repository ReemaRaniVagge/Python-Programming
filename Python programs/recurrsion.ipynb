{
 "cells": [
  {
   "cell_type": "code",
   "execution_count": 2,
   "id": "4207dd5a",
   "metadata": {},
   "outputs": [
    {
     "name": "stdout",
     "output_type": "stream",
     "text": [
      "5000\n"
     ]
    }
   ],
   "source": [
    "#recurrsion-function calling itself\n",
    "import sys\n",
    "sys.setrecursionlimit(5000)    #by this we can get set a limit\n",
    "print(sys.getrecursionlimit())\n",
    "def girl():\n",
    "    print(\"hello\")\n",
    "    girl()"
   ]
  },
  {
   "cell_type": "code",
   "execution_count": 3,
   "id": "cb9a0a8e",
   "metadata": {},
   "outputs": [
    {
     "name": "stdout",
     "output_type": "stream",
     "text": [
      "120\n"
     ]
    }
   ],
   "source": [
    "#factorial using recurrsion\n",
    "\n",
    "def fact(n):\n",
    "    if (n==0):\n",
    "        return 1\n",
    "    return n*fact(n-1)\n",
    "    \n",
    "\n",
    "result=fact(5)\n",
    "print(result)"
   ]
  },
  {
   "cell_type": "code",
   "execution_count": null,
   "id": "721ea279",
   "metadata": {},
   "outputs": [],
   "source": []
  }
 ],
 "metadata": {
  "kernelspec": {
   "display_name": "Python 3 (ipykernel)",
   "language": "python",
   "name": "python3"
  },
  "language_info": {
   "codemirror_mode": {
    "name": "ipython",
    "version": 3
   },
   "file_extension": ".py",
   "mimetype": "text/x-python",
   "name": "python",
   "nbconvert_exporter": "python",
   "pygments_lexer": "ipython3",
   "version": "3.9.7"
  }
 },
 "nbformat": 4,
 "nbformat_minor": 5
}
