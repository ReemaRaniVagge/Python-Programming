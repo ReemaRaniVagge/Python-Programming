{
 "cells": [
  {
   "cell_type": "code",
   "execution_count": 1,
   "id": "c2d626d5",
   "metadata": {},
   "outputs": [
    {
     "name": "stdout",
     "output_type": "stream",
     "text": [
      "25\n",
      "25\n",
      "25\n"
     ]
    }
   ],
   "source": [
    "#anonyms function-here fuction without names and also called as lambda\n",
    "\n",
    "def square(x):\n",
    "    return x*x\n",
    "result=square(5)\n",
    "print(result)\n",
    "\n",
    "#the above code is casual way but using lambda function is below code\n",
    "\n",
    "lambda a:a*a\n",
    "result=square(5)\n",
    "print(result)\n",
    "\n",
    "#another way of above code\n",
    "\n",
    "f=lambda a:a*a\n",
    "result=f(5)\n",
    "print(result)\n",
    "    "
   ]
  },
  {
   "cell_type": "code",
   "execution_count": 2,
   "id": "2cfd35d5",
   "metadata": {},
   "outputs": [
    {
     "name": "stdout",
     "output_type": "stream",
     "text": [
      "65\n"
     ]
    }
   ],
   "source": [
    "#for two numbers\n",
    "\n",
    "f=lambda a,b:a+b  #here we can take many variables but it should be one expression only here i.e a+b\n",
    "result=f(5,60)\n",
    "print(result)\n",
    "    "
   ]
  },
  {
   "cell_type": "code",
   "execution_count": 5,
   "id": "fa9bd9ea",
   "metadata": {},
   "outputs": [
    {
     "name": "stdout",
     "output_type": "stream",
     "text": [
      "[4, 6, 8, 24, 56]\n",
      "[4, 6, 8, 24, 56]\n"
     ]
    }
   ],
   "source": [
    "#lambda filter, map, reduce\n",
    "#lambda reduces the number of codes\n",
    "\n",
    "\n",
    "def is_even(n):\n",
    "    return n%2==0\n",
    "nums=[3,4,5,6,7,8,24,56,79,43]\n",
    "even=list(filter(is_even,nums)) #filter takes function and iterable\n",
    "print(even)\n",
    "\n",
    "#above ex is done using lambda \n",
    "#filter\n",
    "nums=[3,4,5,6,7,8,24,56,79,43]\n",
    "even=list(filter(lambda r:r%2==0,nums)) #filter takes function and iterable\n",
    "print(even)\n"
   ]
  },
  {
   "cell_type": "code",
   "execution_count": 7,
   "id": "d5738790",
   "metadata": {},
   "outputs": [
    {
     "name": "stdout",
     "output_type": "stream",
     "text": [
      "[4, 6, 8, 24, 56]\n",
      "[8, 12, 16, 48, 112]\n"
     ]
    }
   ],
   "source": [
    "#map\n",
    "nums=[3,4,5,6,7,8,24,56,79,43]\n",
    "even=list(filter(lambda r:r%2==0,nums)) #to change every value u can use map\n",
    "d=list(map(lambda n:n*2,even))   #map takes function and iterable\n",
    "print(even)\n",
    "print(d)"
   ]
  },
  {
   "cell_type": "code",
   "execution_count": 9,
   "id": "97cc53d5",
   "metadata": {},
   "outputs": [
    {
     "name": "stdout",
     "output_type": "stream",
     "text": [
      "[4, 6, 8, 24, 56]\n",
      "[8, 12, 16, 48, 112]\n",
      "196\n"
     ]
    }
   ],
   "source": [
    "#reduce\n",
    "from functools import reduce\n",
    "nums=[3,4,5,6,7,8,24,56,79,43]\n",
    "d=list(map(lambda n:n*2,even)) \n",
    "sum=reduce(lambda a,b:a+b,d)   # #map takes function and sequence\n",
    "print(even)\n",
    "print(d)\n",
    "print(sum)\n"
   ]
  },
  {
   "cell_type": "code",
   "execution_count": 13,
   "id": "9a657b12",
   "metadata": {},
   "outputs": [
    {
     "name": "stdout",
     "output_type": "stream",
     "text": [
      "5.0\n"
     ]
    }
   ],
   "source": [
    "##decorators-change the behaviour of the existing function at the compile \n",
    "#below ex we r doing division but when the user is dividing smaller with bigger no then we should swap\n",
    "def die(a,b):\n",
    "    if a<b:\n",
    "        a,b=b,a\n",
    "    return a/b\n",
    "\n",
    "die(2,4)\n",
    "\n",
    "#above code can be wriitten as below using decorators\n",
    "\n",
    "def die(a,b):\n",
    "    print(a/b)\n",
    "def smart_die(func):\n",
    "    def inner(a,b):\n",
    "        if a<b:\n",
    "            a,b=b,a\n",
    "        return func(a,b)\n",
    "    return inner\n",
    "die=smart_die(die)\n",
    "die(2,10)\n",
    "    "
   ]
  },
  {
   "cell_type": "code",
   "execution_count": null,
   "id": "afaf19da",
   "metadata": {},
   "outputs": [],
   "source": []
  }
 ],
 "metadata": {
  "kernelspec": {
   "display_name": "Python 3 (ipykernel)",
   "language": "python",
   "name": "python3"
  },
  "language_info": {
   "codemirror_mode": {
    "name": "ipython",
    "version": 3
   },
   "file_extension": ".py",
   "mimetype": "text/x-python",
   "name": "python",
   "nbconvert_exporter": "python",
   "pygments_lexer": "ipython3",
   "version": "3.9.7"
  }
 },
 "nbformat": 4,
 "nbformat_minor": 5
}
