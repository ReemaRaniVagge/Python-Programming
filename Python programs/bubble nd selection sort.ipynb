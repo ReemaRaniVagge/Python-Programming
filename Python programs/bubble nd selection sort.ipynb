{
 "cells": [
  {
   "cell_type": "code",
   "execution_count": 1,
   "id": "c509b058",
   "metadata": {},
   "outputs": [],
   "source": [
    "#swapping is used here-if the  element is greater than next element than we should swap those two elements"
   ]
  },
  {
   "cell_type": "code",
   "execution_count": 9,
   "id": "eec22bda",
   "metadata": {},
   "outputs": [
    {
     "name": "stdout",
     "output_type": "stream",
     "text": [
      "[3, 5, 8, 6, 7, 2]\n",
      "[3, 5, 6, 8, 7, 2]\n",
      "[3, 5, 6, 7, 8, 2]\n",
      "[3, 5, 6, 7, 2, 8]\n",
      "[3, 5, 6, 2, 7, 8]\n",
      "[3, 5, 2, 6, 7, 8]\n",
      "[3, 2, 5, 6, 7, 8]\n",
      "[2, 3, 5, 6, 7, 8]\n",
      "[2, 3, 5, 6, 7, 8]\n"
     ]
    }
   ],
   "source": [
    "def sort(lst):\n",
    "    for i in range(len(lst)-1,0,-1):\n",
    "        for j in range(i):\n",
    "            if(lst[j]>lst[j+1]):\n",
    "                temp =lst[j]\n",
    "                lst[j]=lst[j+1]\n",
    "                lst[j+1]=temp\n",
    "                #print(lst)\n",
    "\n",
    "\n",
    "lst=[5,3,8,6,7,2]\n",
    "sort(lst)\n",
    "print(lst)"
   ]
  },
  {
   "cell_type": "code",
   "execution_count": 3,
   "id": "4d4dd78a",
   "metadata": {},
   "outputs": [],
   "source": [
    "#in buble sort we do multiple swapping so to overcome that we use selection sort\n",
    "#in slection sort we check for min value in lst and swap those elements...then we have sorted and unsorted list then we continue same procedure for unsorted\n"
   ]
  },
  {
   "cell_type": "code",
   "execution_count": 8,
   "id": "68de88a1",
   "metadata": {},
   "outputs": [
    {
     "name": "stdout",
     "output_type": "stream",
     "text": [
      "[2, 3, 8, 6, 7, 5]\n",
      "[2, 3, 8, 6, 7, 5]\n",
      "[2, 3, 5, 6, 7, 8]\n",
      "[2, 3, 5, 6, 7, 8]\n",
      "[2, 3, 5, 6, 7, 8]\n",
      "[2, 3, 5, 6, 7, 8]\n"
     ]
    }
   ],
   "source": [
    "def sort(lst):\n",
    "    for i in range(5): #here we r checking from index 0 to 5 so 5 is the last index\n",
    "        minpos=i\n",
    "        for j in range(i,6):\n",
    "            if(lst[j] < lst[minpos]):\n",
    "                minpos=j\n",
    "        temp =lst[i]\n",
    "        lst[i]=lst[minpos]\n",
    "        lst[minpos]=temp\n",
    "        \n",
    "        print(lst)\n",
    "\n",
    "lst=[5,3,8,6,7,2]\n",
    "sort(lst)\n",
    "print(lst)"
   ]
  },
  {
   "cell_type": "code",
   "execution_count": null,
   "id": "93075803",
   "metadata": {},
   "outputs": [],
   "source": []
  }
 ],
 "metadata": {
  "kernelspec": {
   "display_name": "Python 3 (ipykernel)",
   "language": "python",
   "name": "python3"
  },
  "language_info": {
   "codemirror_mode": {
    "name": "ipython",
    "version": 3
   },
   "file_extension": ".py",
   "mimetype": "text/x-python",
   "name": "python",
   "nbconvert_exporter": "python",
   "pygments_lexer": "ipython3",
   "version": "3.9.7"
  }
 },
 "nbformat": 4,
 "nbformat_minor": 5
}
