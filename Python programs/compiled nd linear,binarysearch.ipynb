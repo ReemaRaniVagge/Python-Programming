{
 "cells": [
  {
   "cell_type": "code",
   "execution_count": 1,
   "id": "1c815192",
   "metadata": {},
   "outputs": [],
   "source": [
    "#compiled-it is used for converting high level language into machine language \n",
    "#interpreted means if we have set of instructions the interpreter reads and executes everyline one by one\n",
    "#procedure-pythoncode first copmpiles and gives byte code then interprets with python virtual machine and then converts into machine language"
   ]
  },
  {
   "cell_type": "code",
   "execution_count": 2,
   "id": "fbd4575c",
   "metadata": {},
   "outputs": [],
   "source": [
    "#what we done till now it is cpython"
   ]
  },
  {
   "cell_type": "code",
   "execution_count": 17,
   "id": "d114ad23",
   "metadata": {},
   "outputs": [
    {
     "name": "stdout",
     "output_type": "stream",
     "text": [
      "found at 6\n"
     ]
    }
   ],
   "source": [
    "#linear search\n",
    "#here ex is to search an element from a list\n",
    "\n",
    "pos=-1  #says position\n",
    "def search(lst,n):\n",
    "    i=0\n",
    "    \n",
    "    while i<len(lst):\n",
    "        if lst[i] ==n:\n",
    "            globals() ['pos']=i\n",
    "            return True\n",
    "        i=i+1\n",
    "    return False\n",
    "    \n",
    "lst=[4,5,67,54,3,2,98]\n",
    "\n",
    "n=98\n",
    "\n",
    "if search(lst,n):\n",
    "    print(\"found at\",pos)\n",
    "else:\n",
    "    print(\"not found\")\n"
   ]
  },
  {
   "cell_type": "code",
   "execution_count": null,
   "id": "9f82c6a8",
   "metadata": {},
   "outputs": [],
   "source": [
    "#binary search-it is used when list increases....here the list should be sorted and it has lowerbound and upperbound means first nd last values\n",
    "#if search value is smaller than change the upper bound&mid becomes new upper bound\n",
    "#if search value is bigger than change the lower bound&mid becomes new lower bound"
   ]
  },
  {
   "cell_type": "code",
   "execution_count": 23,
   "id": "fa976455",
   "metadata": {},
   "outputs": [
    {
     "name": "stdout",
     "output_type": "stream",
     "text": [
      "found at 6\n"
     ]
    }
   ],
   "source": [
    "pos=-1\n",
    "\n",
    "def search(lst,n):\n",
    "    l=0\n",
    "    u=len(lst)-1\n",
    "    \n",
    "    while l<=u:\n",
    "        mid = (l+u) // 2\n",
    "        \n",
    "        if lst[mid]==n:\n",
    "            globals() ['pos']=mid\n",
    "            return True\n",
    "        else:\n",
    "            if lst[mid]<n:\n",
    "                l=mid+1\n",
    "            else:\n",
    "                u=mid-1\n",
    "    return False\n",
    "\n",
    "lst=[3,4,5,6,7,8,9,34]\n",
    "\n",
    "n=9 \n",
    "\n",
    "if search(lst,n):\n",
    "    print(\"found at\",pos)\n",
    "else:\n",
    "    print(\"not found\")\n"
   ]
  },
  {
   "cell_type": "code",
   "execution_count": null,
   "id": "af7a4300",
   "metadata": {},
   "outputs": [],
   "source": []
  },
  {
   "cell_type": "code",
   "execution_count": null,
   "id": "c9ac079f",
   "metadata": {},
   "outputs": [],
   "source": []
  }
 ],
 "metadata": {
  "kernelspec": {
   "display_name": "Python 3 (ipykernel)",
   "language": "python",
   "name": "python3"
  },
  "language_info": {
   "codemirror_mode": {
    "name": "ipython",
    "version": 3
   },
   "file_extension": ".py",
   "mimetype": "text/x-python",
   "name": "python",
   "nbconvert_exporter": "python",
   "pygments_lexer": "ipython3",
   "version": "3.9.7"
  }
 },
 "nbformat": 4,
 "nbformat_minor": 5
}
