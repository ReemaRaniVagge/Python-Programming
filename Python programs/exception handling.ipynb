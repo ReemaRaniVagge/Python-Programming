{
 "cells": [
  {
   "cell_type": "code",
   "execution_count": 1,
   "id": "f69f12c9",
   "metadata": {},
   "outputs": [],
   "source": [
    "#errors are three types compile time ,logical,runtime\n",
    "\n",
    "#expection handling deals with runtime errors\n",
    "#if wxception occurs also the code should run"
   ]
  },
  {
   "cell_type": "code",
   "execution_count": 6,
   "id": "e1db7042",
   "metadata": {},
   "outputs": [
    {
     "name": "stdout",
     "output_type": "stream",
     "text": [
      "you cannot divide with zero\n",
      "it is executed\n"
     ]
    }
   ],
   "source": [
    "a=5\n",
    "b=0\n",
    "try:\n",
    "    print(a/b)\n",
    "except Exception:   #when error occurs \n",
    "    print(\"you cannot divide with zero\")\n",
    "    \n",
    "print(\"it is executed\")"
   ]
  },
  {
   "cell_type": "code",
   "execution_count": 7,
   "id": "8c1b7a29",
   "metadata": {},
   "outputs": [
    {
     "name": "stdout",
     "output_type": "stream",
     "text": [
      "you cannot divide with zero division by zero\n",
      "it is executed\n"
     ]
    }
   ],
   "source": [
    "a=5\n",
    "b=0\n",
    "try:\n",
    "    print(a/b)\n",
    "except Exception as e:\n",
    "    print(\"you cannot divide with zero\",e)\n",
    "    \n",
    "print(\"it is executed\")"
   ]
  },
  {
   "cell_type": "code",
   "execution_count": 8,
   "id": "9c0b93c0",
   "metadata": {},
   "outputs": [
    {
     "name": "stdout",
     "output_type": "stream",
     "text": [
      "resource opened\n",
      "you cannot divide with zero\n",
      "it is executed\n"
     ]
    }
   ],
   "source": [
    "a=5\n",
    "b=0\n",
    "try:\n",
    "    print(\"resource opened\")\n",
    "    print(a/b)\n",
    "except Exception:\n",
    "    print(\"you cannot divide with zero\")\n",
    "finally:\n",
    "     print(\"resource closed\")"
   ]
  },
  {
   "cell_type": "code",
   "execution_count": 11,
   "id": "870f9e09",
   "metadata": {},
   "outputs": [
    {
     "name": "stdout",
     "output_type": "stream",
     "text": [
      "enter a nou\n"
     ]
    },
    {
     "ename": "ValueError",
     "evalue": "invalid literal for int() with base 10: 'u'",
     "output_type": "error",
     "traceback": [
      "\u001b[1;31m---------------------------------------------------------------------------\u001b[0m",
      "\u001b[1;31mValueError\u001b[0m                                Traceback (most recent call last)",
      "\u001b[1;32m~\\AppData\\Local\\Temp/ipykernel_14696/2038564614.py\u001b[0m in \u001b[0;36m<module>\u001b[1;34m\u001b[0m\n\u001b[0;32m      1\u001b[0m \u001b[0ma\u001b[0m\u001b[1;33m=\u001b[0m\u001b[1;36m5\u001b[0m\u001b[1;33m\u001b[0m\u001b[1;33m\u001b[0m\u001b[0m\n\u001b[0;32m      2\u001b[0m \u001b[0mb\u001b[0m\u001b[1;33m=\u001b[0m\u001b[1;36m0\u001b[0m\u001b[1;33m\u001b[0m\u001b[1;33m\u001b[0m\u001b[0m\n\u001b[1;32m----> 3\u001b[1;33m \u001b[0mk\u001b[0m\u001b[1;33m=\u001b[0m\u001b[0mint\u001b[0m\u001b[1;33m(\u001b[0m\u001b[0minput\u001b[0m\u001b[1;33m(\u001b[0m\u001b[1;34m'enter a no'\u001b[0m\u001b[1;33m)\u001b[0m\u001b[1;33m)\u001b[0m\u001b[1;33m\u001b[0m\u001b[1;33m\u001b[0m\u001b[0m\n\u001b[0m\u001b[0;32m      4\u001b[0m \u001b[0mprint\u001b[0m\u001b[1;33m(\u001b[0m\u001b[0mk\u001b[0m\u001b[1;33m)\u001b[0m\u001b[1;33m\u001b[0m\u001b[1;33m\u001b[0m\u001b[0m\n\u001b[0;32m      5\u001b[0m \u001b[1;32mtry\u001b[0m\u001b[1;33m:\u001b[0m\u001b[1;33m\u001b[0m\u001b[1;33m\u001b[0m\u001b[0m\n",
      "\u001b[1;31mValueError\u001b[0m: invalid literal for int() with base 10: 'u'"
     ]
    }
   ],
   "source": [
    "a=5\n",
    "b=0\n",
    "k=int(input('enter a no'))\n",
    "print(k)\n",
    "try:\n",
    "    print(\"resource opened\")\n",
    "    print(a/b)\n",
    "except Exception:\n",
    "    print(\"you cannot divide with zero\")\n",
    "finally:\n",
    "     print(\"resource closed\")"
   ]
  },
  {
   "cell_type": "code",
   "execution_count": 17,
   "id": "a85a0d18",
   "metadata": {},
   "outputs": [
    {
     "name": "stdout",
     "output_type": "stream",
     "text": [
      "resource opened\n",
      "0.8333333333333334\n",
      "enter a nou\n",
      "Invalid input\n",
      "resource closed\n"
     ]
    }
   ],
   "source": [
    "#solving above error\n",
    "\n",
    "a=5\n",
    "b=6\n",
    "try:\n",
    "    print(\"resource opened\")\n",
    "    print(a/b)\n",
    "    k=int(input('enter a no'))\n",
    "    print(k)\n",
    "except ZeroDivisionError as e:\n",
    "    print(\"you cannot divide with zero\",e)\n",
    "    \n",
    "except ValueError as e:\n",
    "    print(\"Invalid input\")\n",
    "except Exception as e:\n",
    "    print(\"something went wrong...\")\n",
    "    \n",
    "finally:\n",
    "    \n",
    "     print(\"resource closed\")"
   ]
  },
  {
   "cell_type": "code",
   "execution_count": null,
   "id": "da9e6373",
   "metadata": {},
   "outputs": [],
   "source": []
  },
  {
   "cell_type": "code",
   "execution_count": null,
   "id": "46427c18",
   "metadata": {},
   "outputs": [],
   "source": []
  }
 ],
 "metadata": {
  "kernelspec": {
   "display_name": "Python 3 (ipykernel)",
   "language": "python",
   "name": "python3"
  },
  "language_info": {
   "codemirror_mode": {
    "name": "ipython",
    "version": 3
   },
   "file_extension": ".py",
   "mimetype": "text/x-python",
   "name": "python",
   "nbconvert_exporter": "python",
   "pygments_lexer": "ipython3",
   "version": "3.9.7"
  }
 },
 "nbformat": 4,
 "nbformat_minor": 5
}
