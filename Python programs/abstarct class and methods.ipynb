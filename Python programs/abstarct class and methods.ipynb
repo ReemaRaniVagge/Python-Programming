{
 "cells": [
  {
   "cell_type": "code",
   "execution_count": 1,
   "id": "dd19daf3",
   "metadata": {},
   "outputs": [],
   "source": [
    "#abstarct base classes(abc) used to create abstract class\n",
    "#"
   ]
  },
  {
   "cell_type": "code",
   "execution_count": 2,
   "id": "6fa23ff2",
   "metadata": {},
   "outputs": [],
   "source": [
    "#what is abstract class\n",
    "\n",
    "class computer:\n",
    "    def process(self):  #def is amethod here\n",
    "        #print(\"it is running\")  #body is print we can have multiple prints .....if there is no data just we can put there \"pass\"\n",
    "        pass\n",
    "    #methods only has a declaration but not a defination is called as abstarct methods and a class which has abstarct method it is a absract classes like above example\n",
    "#this example doesnot create abstarct class         "
   ]
  },
  {
   "cell_type": "code",
   "execution_count": 4,
   "id": "3089bd1c",
   "metadata": {},
   "outputs": [
    {
     "ename": "TypeError",
     "evalue": "Can't instantiate abstract class computer with abstract method process",
     "output_type": "error",
     "traceback": [
      "\u001b[1;31m---------------------------------------------------------------------------\u001b[0m",
      "\u001b[1;31mTypeError\u001b[0m                                 Traceback (most recent call last)",
      "\u001b[1;32m~\\AppData\\Local\\Temp/ipykernel_9800/2338725553.py\u001b[0m in \u001b[0;36m<module>\u001b[1;34m\u001b[0m\n\u001b[0;32m      8\u001b[0m         \u001b[1;32mpass\u001b[0m\u001b[1;33m\u001b[0m\u001b[1;33m\u001b[0m\u001b[0m\n\u001b[0;32m      9\u001b[0m \u001b[1;33m\u001b[0m\u001b[0m\n\u001b[1;32m---> 10\u001b[1;33m \u001b[0ma\u001b[0m\u001b[1;33m=\u001b[0m\u001b[0mcomputer\u001b[0m\u001b[1;33m(\u001b[0m\u001b[1;33m)\u001b[0m\u001b[1;33m\u001b[0m\u001b[1;33m\u001b[0m\u001b[0m\n\u001b[0m\u001b[0;32m     11\u001b[0m \u001b[0ma\u001b[0m\u001b[1;33m.\u001b[0m\u001b[0mprocess\u001b[0m\u001b[1;33m(\u001b[0m\u001b[1;33m)\u001b[0m\u001b[1;33m\u001b[0m\u001b[1;33m\u001b[0m\u001b[0m\n",
      "\u001b[1;31mTypeError\u001b[0m: Can't instantiate abstract class computer with abstract method process"
     ]
    }
   ],
   "source": [
    "#to create abstarct class we need to import abc see below ex which is overcoming the above ex\n",
    "\n",
    "from abc import ABC,abstractmethod\n",
    "\n",
    "class computer(ABC):\n",
    "    @abstractmethod\n",
    "    def process(self):\n",
    "        pass\n",
    "    \n",
    "a=computer()\n",
    "a.process()"
   ]
  },
  {
   "cell_type": "code",
   "execution_count": 5,
   "id": "100dc45c",
   "metadata": {},
   "outputs": [
    {
     "name": "stdout",
     "output_type": "stream",
     "text": [
      "its running\n"
     ]
    }
   ],
   "source": [
    "from abc import ABC,abstractmethod\n",
    "\n",
    "class computer(ABC):\n",
    "    @abstractmethod\n",
    "    def process(self):\n",
    "        pass\n",
    "\n",
    "class laptop(computer):\n",
    "    def process(self):\n",
    "        print(\"its running\")\n",
    "        \n",
    "        \n",
    "a=laptop()\n",
    "a.process()"
   ]
  },
  {
   "cell_type": "code",
   "execution_count": 7,
   "id": "81477978",
   "metadata": {},
   "outputs": [
    {
     "name": "stdout",
     "output_type": "stream",
     "text": [
      "solve\n"
     ]
    }
   ],
   "source": [
    "from abc import ABC,abstractmethod\n",
    "\n",
    "class computer(ABC):\n",
    "    @abstractmethod\n",
    "    def process(self):\n",
    "        pass\n",
    "\n",
    "class laptop(computer):\n",
    "    def process(self):\n",
    "        print(\"its running\")\n",
    "        \n",
    "class programmer:\n",
    "    def work(self,a):\n",
    "        print(\"solve\")\n",
    "        \n",
    "        \n",
    "a=laptop()\n",
    "b=programmer()\n",
    "b.work(a)"
   ]
  },
  {
   "cell_type": "code",
   "execution_count": null,
   "id": "cbc92b54",
   "metadata": {},
   "outputs": [],
   "source": [
    "#abstarct class should have atleast one abstarct method in a class"
   ]
  }
 ],
 "metadata": {
  "kernelspec": {
   "display_name": "Python 3 (ipykernel)",
   "language": "python",
   "name": "python3"
  },
  "language_info": {
   "codemirror_mode": {
    "name": "ipython",
    "version": 3
   },
   "file_extension": ".py",
   "mimetype": "text/x-python",
   "name": "python",
   "nbconvert_exporter": "python",
   "pygments_lexer": "ipython3",
   "version": "3.9.7"
  }
 },
 "nbformat": 4,
 "nbformat_minor": 5
}
