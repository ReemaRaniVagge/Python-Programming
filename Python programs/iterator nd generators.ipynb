{
 "cells": [
  {
   "cell_type": "code",
   "execution_count": 1,
   "id": "54695a45",
   "metadata": {},
   "outputs": [],
   "source": [
    "#ierator-fetch one value at a time"
   ]
  },
  {
   "cell_type": "code",
   "execution_count": 12,
   "id": "85d57576",
   "metadata": {},
   "outputs": [
    {
     "name": "stdout",
     "output_type": "stream",
     "text": [
      "9\n",
      "5\n",
      "6\n"
     ]
    }
   ],
   "source": [
    "a=[9,5,6,4,6]\n",
    "\n",
    "#print(a[4])-we can have the values what we want but another way to print the values of a then below ex\n",
    "\n",
    "#for i in a:\n",
    "#    print(i)\n",
    "    \n",
    "#  another way to print the values of a with help of iterator-we use function called \"iter\" to convert list to iterator\n",
    "\n",
    "it=iter(a)\n",
    "print(it.__next__())  #it gives a first value without using index values\n",
    "print(it.__next__())  #after first value it gives second value\n",
    "print(next(it))  #we can do in this way too\n",
    " "
   ]
  },
  {
   "cell_type": "code",
   "execution_count": 19,
   "id": "e745dd74",
   "metadata": {},
   "outputs": [
    {
     "name": "stdout",
     "output_type": "stream",
     "text": [
      "1\n",
      "2\n",
      "3\n",
      "4\n",
      "5\n",
      "6\n",
      "7\n",
      "8\n",
      "9\n",
      "10\n"
     ]
    }
   ],
   "source": [
    "#creating own iterator - it has two methods-iter()-object of the iterator,next()-gives the next object\n",
    "\n",
    "#this ex -printing top ten values\n",
    "\n",
    "class G:\n",
    "    def __init__(self):\n",
    "        self.num=1\n",
    "        \n",
    "    def __iter__(self):\n",
    "        return self\n",
    "    \n",
    "    def __next__(self):\n",
    "        if self.num<=10:\n",
    "            \n",
    "            val=self.num\n",
    "            self.num +=1\n",
    "\n",
    "            return val\n",
    "        else:\n",
    "            raise StopIteration\n",
    "        \n",
    "    \n",
    "values=G()\n",
    "\n",
    "#print(values.__next__())\n",
    "for i in values:\n",
    "    print(i)\n",
    "\n",
    "        \n",
    "        "
   ]
  },
  {
   "cell_type": "code",
   "execution_count": null,
   "id": "ed8bfa7b",
   "metadata": {},
   "outputs": [],
   "source": [
    "#generators -will give iterators fetch one by one value "
   ]
  },
  {
   "cell_type": "code",
   "execution_count": 24,
   "id": "2c8f1c32",
   "metadata": {},
   "outputs": [
    {
     "name": "stdout",
     "output_type": "stream",
     "text": [
      "1\n",
      "2\n",
      "3\n",
      "4\n",
      "5\n"
     ]
    }
   ],
   "source": [
    "#this ex -printing top five values \n",
    "\n",
    "def topten():\n",
    "    \n",
    "    yield 1     #\"yeild\" will make function to generator\n",
    "    yield 2\n",
    "    yield 3\n",
    "    yield 4\n",
    "    yield 5\n",
    "    \n",
    "values=topten()\n",
    "print(values.__next__())  #it gives first value \n",
    "for i in values:  #it gives the remaing values\n",
    "    print(i)"
   ]
  },
  {
   "cell_type": "code",
   "execution_count": 27,
   "id": "5ab610ac",
   "metadata": {},
   "outputs": [
    {
     "name": "stdout",
     "output_type": "stream",
     "text": [
      "1\n",
      "4\n",
      "9\n",
      "16\n",
      "25\n",
      "36\n",
      "49\n",
      "64\n",
      "81\n",
      "100\n"
     ]
    }
   ],
   "source": [
    "#this ex -top ten perfect square\n",
    "\n",
    "def topten():\n",
    "    n=1\n",
    "    while n<=10:\n",
    "        square=n*n\n",
    "        yield square\n",
    "        n +=1\n",
    "    \n",
    "    \n",
    "values=topten()\n",
    "\n",
    "for i in values:  #it gives the remaing values\n",
    "    print(i)"
   ]
  },
  {
   "cell_type": "code",
   "execution_count": null,
   "id": "7d662148",
   "metadata": {},
   "outputs": [],
   "source": []
  }
 ],
 "metadata": {
  "kernelspec": {
   "display_name": "Python 3 (ipykernel)",
   "language": "python",
   "name": "python3"
  },
  "language_info": {
   "codemirror_mode": {
    "name": "ipython",
    "version": 3
   },
   "file_extension": ".py",
   "mimetype": "text/x-python",
   "name": "python",
   "nbconvert_exporter": "python",
   "pygments_lexer": "ipython3",
   "version": "3.9.7"
  }
 },
 "nbformat": 4,
 "nbformat_minor": 5
}
