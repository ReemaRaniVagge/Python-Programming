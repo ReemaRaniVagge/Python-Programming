{
 "cells": [
  {
   "cell_type": "code",
   "execution_count": 2,
   "id": "d84666b0",
   "metadata": {},
   "outputs": [
    {
     "name": "stdout",
     "output_type": "stream",
     "text": [
      "hello rani\n"
     ]
    }
   ],
   "source": [
    "#function is defined as def and after that we assign the name to it\n",
    "#function perform two types i.e it performs task or return the value\n",
    "\n",
    "def reema():\n",
    "    print(\"hello rani\")\n",
    "reema()   #after writing our code we should call the function to get output\n"
   ]
  },
  {
   "cell_type": "code",
   "execution_count": 3,
   "id": "724ad914",
   "metadata": {},
   "outputs": [
    {
     "name": "stdout",
     "output_type": "stream",
     "text": [
      "13\n",
      "hello rani\n"
     ]
    }
   ],
   "source": [
    "#adding\n",
    "def reema():\n",
    "    print(\"hello rani\")\n",
    "    \n",
    "def add(x,y): #here x,y are the arguments\n",
    "    c=x+y\n",
    "    return c  # print(c)  it will return the value to c\n",
    "add(5,8)  #calling function by passing values\n",
    "    \n",
    "reema()"
   ]
  },
  {
   "cell_type": "code",
   "execution_count": 4,
   "id": "221acd2a",
   "metadata": {},
   "outputs": [
    {
     "data": {
      "text/plain": [
       "(13, -3)"
      ]
     },
     "execution_count": 4,
     "metadata": {},
     "output_type": "execute_result"
    }
   ],
   "source": [
    "#if we want to return two values then'\n",
    "\n",
    "def add_sub(x,y): #here x,y are the arguments\n",
    "    c=x+y\n",
    "    d=x-y\n",
    "    return c,d  # print(c)  it will return the value to c\n",
    "add_sub(5,8)  "
   ]
  },
  {
   "cell_type": "code",
   "execution_count": 3,
   "id": "6845da79",
   "metadata": {},
   "outputs": [
    {
     "name": "stdout",
     "output_type": "stream",
     "text": [
      "2934792350256\n",
      "2934792350256\n",
      "8\n",
      "9\n"
     ]
    }
   ],
   "source": [
    "#function arguments \n",
    "\n",
    "def tiger(x):\n",
    "    print(id(x))\n",
    "    x=8\n",
    "    print(x)\n",
    "    \n",
    "a=9\n",
    "print(id(a))  #we are getting same address\n",
    "tiger(a)\n",
    "print(a)\n",
    " \n",
    "#pass by value-passing the value but not address and pass by reference-passing the address\n"
   ]
  },
  {
   "cell_type": "code",
   "execution_count": 4,
   "id": "19fb9f33",
   "metadata": {},
   "outputs": [
    {
     "name": "stdout",
     "output_type": "stream",
     "text": [
      "2934792350256\n",
      "2934792350256\n",
      "2934792350224\n",
      "8\n",
      "9\n"
     ]
    }
   ],
   "source": [
    "def tiger(x):\n",
    "    print(id(x))\n",
    "    x=8\n",
    "    print(id(x))  #when we updating the value of x then x and a is in different memory\n",
    "    print(x)\n",
    "    \n",
    "a=9\n",
    "print(id(a))  #we are getting same address\n",
    "tiger(a)\n",
    "print(a)\n",
    " \n"
   ]
  },
  {
   "cell_type": "code",
   "execution_count": 5,
   "id": "7208f5cc",
   "metadata": {},
   "outputs": [
    {
     "name": "stdout",
     "output_type": "stream",
     "text": [
      "76\n"
     ]
    }
   ],
   "source": [
    "#types of arguments \n",
    "\n",
    "def sum(a,j):  #here a and j are argumentsi.e formal arguments\n",
    "    c=a+j\n",
    "    print(c)\n",
    "    \n",
    "sum(9,67)   #here passing the values are argumentsi.e actualarguments\n",
    "#actual arguments are dofferent types-position,keyword,default and variable length\n",
    "\n"
   ]
  },
  {
   "cell_type": "code",
   "execution_count": 6,
   "id": "0c6b5100",
   "metadata": {},
   "outputs": [
    {
     "name": "stdout",
     "output_type": "stream",
     "text": [
      "9\n",
      "reema\n"
     ]
    }
   ],
   "source": [
    "#position\n",
    "\n",
    "def person(height,name):  \n",
    "    print(height)   #we cant exchange the postions they are fixed\n",
    "    print(name)    \n",
    "person(9,\"reema\")   \n",
    "\n"
   ]
  },
  {
   "cell_type": "code",
   "execution_count": 7,
   "id": "5e5fd139",
   "metadata": {},
   "outputs": [
    {
     "name": "stdout",
     "output_type": "stream",
     "text": [
      "90\n",
      "reema\n"
     ]
    }
   ],
   "source": [
    "#key word\n",
    "#when postions has exchanged in lengthy sequence and we dont know the sequence then we use key words their as below example\n",
    "\n",
    "def person(height,name):  \n",
    "    print(height)   \n",
    "    \n",
    "    print(name)    \n",
    "person(name=\"reema\",height =90)  #here we used keywords\n"
   ]
  },
  {
   "cell_type": "code",
   "execution_count": 11,
   "id": "7a580572",
   "metadata": {},
   "outputs": [
    {
     "ename": "SyntaxError",
     "evalue": "non-default argument follows default argument (Temp/ipykernel_16692/2406369013.py, line 4)",
     "output_type": "error",
     "traceback": [
      "\u001b[1;36m  File \u001b[1;32m\"C:\\Users\\amar\\AppData\\Local\\Temp/ipykernel_16692/2406369013.py\"\u001b[1;36m, line \u001b[1;32m4\u001b[0m\n\u001b[1;33m    def person(height =16,name): #if i did not mention the heiht value in print it takes default value from here\u001b[0m\n\u001b[1;37m                              ^\u001b[0m\n\u001b[1;31mSyntaxError\u001b[0m\u001b[1;31m:\u001b[0m non-default argument follows default argument\n"
     ]
    }
   ],
   "source": [
    "#default\n",
    "#when we dont mention any parameter it takes default\n",
    "\n",
    "def person(height =16,name): #if i did not mention the heiht value in print it takes default value from here  \n",
    "    print(height)   \n",
    "    print(name) \n",
    "    \n",
    "person(\"reema\")  #when we mention height value here it overwrites and that display\n"
   ]
  },
  {
   "cell_type": "code",
   "execution_count": 13,
   "id": "d83e47a4",
   "metadata": {},
   "outputs": [
    {
     "name": "stdout",
     "output_type": "stream",
     "text": [
      "103\n"
     ]
    }
   ],
   "source": [
    "#variable lengh\n",
    "\n",
    "def add(a,*b):   # * can has multiple values\n",
    "    c=a\n",
    "    for i in b:\n",
    "        c=c+i\n",
    "    print(c)\n",
    "add(8,7,9,87)"
   ]
  },
  {
   "cell_type": "code",
   "execution_count": 14,
   "id": "9aca4cde",
   "metadata": {},
   "outputs": [
    {
     "name": "stdout",
     "output_type": "stream",
     "text": [
      "111\n"
     ]
    }
   ],
   "source": [
    "#variable lengh\n",
    "\n",
    "def add(*b):   # * can has multiple values\n",
    "    c=0\n",
    "    for i in b:\n",
    "        c=c+i\n",
    "    print(c)\n",
    "add(8,7,9,87)"
   ]
  },
  {
   "cell_type": "code",
   "execution_count": 16,
   "id": "b10ba765",
   "metadata": {},
   "outputs": [
    {
     "name": "stdout",
     "output_type": "stream",
     "text": [
      "reema\n",
      "{'city': 'hyd', 'phone': 7954289023}\n"
     ]
    }
   ],
   "source": [
    "#keyworded variable length arguments\n",
    "def person(name,**data):   #we want name ,but user sended somuch info about them so we should accept the data so we used *data and we used** for accepting keywords in orint\n",
    "    print(name)\n",
    "    print(data)\n",
    "    \n",
    "person('reema',city='hyd',phone=7954289023)"
   ]
  },
  {
   "cell_type": "code",
   "execution_count": 19,
   "id": "fee4df13",
   "metadata": {},
   "outputs": [
    {
     "name": "stdout",
     "output_type": "stream",
     "text": [
      "reema\n",
      "city hyd\n",
      "phone 7954289023\n"
     ]
    }
   ],
   "source": [
    "#another method for above ex\n",
    "\n",
    "def person(name,**data):   #we want name ,but user sended somuch info about them so we should accept the data so we used *data and we used** for accepting keywords in orint\n",
    "    print(name)\n",
    "    for i,j in data.items():\n",
    "        print(i,j)\n",
    "    \n",
    "person('reema',city='hyd',phone=7954289023)"
   ]
  },
  {
   "cell_type": "code",
   "execution_count": 13,
   "id": "5b4f5328",
   "metadata": {},
   "outputs": [
    {
     "name": "stdout",
     "output_type": "stream",
     "text": [
      "4 6\n"
     ]
    }
   ],
   "source": [
    "#pass list to a function\n",
    "#below ex it return odd and even numbers\n",
    "\n",
    "def count(lst):\n",
    "    even=0\n",
    "    odd=0\n",
    "    for i in lst:\n",
    "        if i%2==0:\n",
    "            even+=1\n",
    "        else:\n",
    "            odd+=1\n",
    "    return even,odd\n",
    "\n",
    "lst=[23,90,9,7,5,6,50,87,34,47]\n",
    "\n",
    "even, odd = count(lst)\n",
    "print(even,odd)"
   ]
  },
  {
   "cell_type": "code",
   "execution_count": 9,
   "id": "d525cdfa",
   "metadata": {},
   "outputs": [
    {
     "name": "stdout",
     "output_type": "stream",
     "text": [
      "25\n",
      "25\n",
      "25\n"
     ]
    }
   ],
   "source": []
  },
  {
   "cell_type": "code",
   "execution_count": 11,
   "id": "f7d82163",
   "metadata": {},
   "outputs": [
    {
     "name": "stdout",
     "output_type": "stream",
     "text": [
      "65\n"
     ]
    }
   ],
   "source": []
  },
  {
   "cell_type": "code",
   "execution_count": null,
   "id": "e5337eed",
   "metadata": {},
   "outputs": [],
   "source": []
  }
 ],
 "metadata": {
  "kernelspec": {
   "display_name": "Python 3 (ipykernel)",
   "language": "python",
   "name": "python3"
  },
  "language_info": {
   "codemirror_mode": {
    "name": "ipython",
    "version": 3
   },
   "file_extension": ".py",
   "mimetype": "text/x-python",
   "name": "python",
   "nbconvert_exporter": "python",
   "pygments_lexer": "ipython3",
   "version": "3.9.7"
  }
 },
 "nbformat": 4,
 "nbformat_minor": 5
}
