{
 "cells": [
  {
   "cell_type": "code",
   "execution_count": 3,
   "id": "bd164bdf",
   "metadata": {},
   "outputs": [],
   "source": [
    "#array has all varaiables with same data type  but it is similar to list\n",
    "\n",
    "#import array as arr\n",
    "#arr.array()\n",
    "#we  other way\n",
    "from array import*"
   ]
  },
  {
   "cell_type": "code",
   "execution_count": 7,
   "id": "f38bb8f0",
   "metadata": {},
   "outputs": [
    {
     "name": "stdout",
     "output_type": "stream",
     "text": [
      "(1615243204240, 5)\n",
      "6\n"
     ]
    }
   ],
   "source": [
    "vals=array('i',[5,9,-8,7,6])\n",
    "vals.reverse()\n",
    "print(vals.buffer_info())  #it gives array address and size\n",
    "print(vals)"
   ]
  },
  {
   "cell_type": "code",
   "execution_count": 9,
   "id": "dbb486f7",
   "metadata": {},
   "outputs": [
    {
     "name": "stdout",
     "output_type": "stream",
     "text": [
      "5\n",
      "9\n",
      "-8\n",
      "7\n",
      "6\n"
     ]
    }
   ],
   "source": [
    "vals=array('i',[5,9,-8,7,6])\n",
    "for i in range(len(vals)):   #if we want to have line by line\n",
    "    print(vals[i])"
   ]
  },
  {
   "cell_type": "code",
   "execution_count": 10,
   "id": "3564a8af",
   "metadata": {},
   "outputs": [
    {
     "name": "stdout",
     "output_type": "stream",
     "text": [
      "l\n",
      "o\n",
      "v\n",
      "e\n"
     ]
    }
   ],
   "source": [
    "vals=array('u',['l','o','v','e'])  #unicode as u it gives characters\n",
    "for i in range(len(vals)):   #if we want to have line by line\n",
    "    print(vals[i])"
   ]
  },
  {
   "cell_type": "code",
   "execution_count": 12,
   "id": "cd9a6b80",
   "metadata": {},
   "outputs": [
    {
     "name": "stdout",
     "output_type": "stream",
     "text": [
      "25\n",
      "81\n",
      "64\n",
      "49\n",
      "36\n"
     ]
    }
   ],
   "source": [
    "vals=array('i',[5,9,8,7,6])\n",
    "newarr=array(vals.typecode,(a*a for a in  vals))\n",
    "for e in newarr:\n",
    "    print(e)"
   ]
  },
  {
   "cell_type": "code",
   "execution_count": 5,
   "id": "f6aaa01d",
   "metadata": {},
   "outputs": [
    {
     "name": "stdout",
     "output_type": "stream",
     "text": [
      "enter the lenght of the array3\n",
      "enter the next value5\n",
      "enter the next value6\n",
      "enter the next value7\n",
      "array('i', [5, 6, 7])\n",
      "enter the value for search7\n",
      "2\n",
      "2\n"
     ]
    }
   ],
   "source": [
    "from array import *\n",
    "arr=array('i',[])\n",
    "n=int(input(\"enter the lenght of the array\"))\n",
    "for i in range(n):\n",
    "    x=int(input(\"enter the next value\"))\n",
    "    arr.append(x)\n",
    "print(arr)\n",
    "\n",
    "val=int(input(\"enter the value for search\"))  #we are finding index no\n",
    "k=0\n",
    "for j in arr:\n",
    "    if j==val:\n",
    "        print(k)\n",
    "        break\n",
    "    k+=1\n",
    "    \n",
    "    #another method to find the index no using funtions\n",
    "print(arr.index(val))\n",
    "        "
   ]
  },
  {
   "cell_type": "code",
   "execution_count": 6,
   "id": "e6834972",
   "metadata": {},
   "outputs": [],
   "source": [
    "#for two dimensional arrays or multi dimensional arrays above methods are not useful so we use here numpy \n",
    "#in numpy mentioning type is optional\n",
    "#they are six ways to create arrays i.e array(),linspace(),logspace(),arange(),zeros(),ones()\n",
    "import numpy"
   ]
  },
  {
   "cell_type": "code",
   "execution_count": 9,
   "id": "a529ae16",
   "metadata": {},
   "outputs": [
    {
     "name": "stdout",
     "output_type": "stream",
     "text": [
      "float64\n"
     ]
    }
   ],
   "source": [
    "#ways of creating arrays in numpy\n",
    "\n",
    "from numpy import *\n",
    "arr=array([1,7,8,9,76.9])\n",
    "print(arr.dtype)"
   ]
  },
  {
   "cell_type": "code",
   "execution_count": 12,
   "id": "446e71d6",
   "metadata": {},
   "outputs": [
    {
     "name": "stdout",
     "output_type": "stream",
     "text": [
      "[ 0.  1.  2.  3.  4.  5.  6.  7.  8.  9. 10. 11. 12. 13. 14. 15.]\n"
     ]
    }
   ],
   "source": [
    "from numpy import *\n",
    "arr=linspace(0,15,16)   #it has start,stop,steps\n",
    "print(arr)"
   ]
  },
  {
   "cell_type": "code",
   "execution_count": 16,
   "id": "dd21e0d2",
   "metadata": {},
   "outputs": [
    {
     "name": "stdout",
     "output_type": "stream",
     "text": [
      "[ 1  4  7 10 13]\n"
     ]
    }
   ],
   "source": [
    "arr=arange(1,15,3) #it has start,stop,steps here step is see the output\n",
    "print(arr)"
   ]
  },
  {
   "cell_type": "code",
   "execution_count": 17,
   "id": "f35cb115",
   "metadata": {},
   "outputs": [
    {
     "name": "stdout",
     "output_type": "stream",
     "text": [
      "[1.e+01 1.e+08 1.e+15]\n"
     ]
    }
   ],
   "source": [
    "arr=logspace(1,15,3) #it has start,stop,steps here step is see the output\n",
    "print(arr)"
   ]
  },
  {
   "cell_type": "code",
   "execution_count": 18,
   "id": "a403c14f",
   "metadata": {},
   "outputs": [
    {
     "name": "stdout",
     "output_type": "stream",
     "text": [
      "[0. 0. 0. 0. 0.]\n"
     ]
    }
   ],
   "source": [
    "arr=zeros(5)\n",
    "print(arr)"
   ]
  },
  {
   "cell_type": "code",
   "execution_count": 20,
   "id": "2b8acde1",
   "metadata": {},
   "outputs": [
    {
     "name": "stdout",
     "output_type": "stream",
     "text": [
      "[1. 1. 1. 1. 1.]\n",
      "[1 1 1 1 1]\n"
     ]
    }
   ],
   "source": [
    "arr=ones(5)\n",
    "print(arr)\n",
    "arr=ones(5,int)\n",
    "print(arr)"
   ]
  },
  {
   "cell_type": "code",
   "execution_count": 22,
   "id": "589b746a",
   "metadata": {},
   "outputs": [
    {
     "name": "stdout",
     "output_type": "stream",
     "text": [
      "[ 4.  10.  11.  12.  79.9]\n"
     ]
    }
   ],
   "source": [
    "\n",
    "from numpy import *\n",
    "arr1=array([1,7,8,9,76.9])\n",
    "arr=arr+3\n",
    "print(arr)"
   ]
  },
  {
   "cell_type": "code",
   "execution_count": 23,
   "id": "d28234f1",
   "metadata": {},
   "outputs": [
    {
     "name": "stdout",
     "output_type": "stream",
     "text": [
      "[  2.   14.   16.  107.   84.8]\n"
     ]
    }
   ],
   "source": [
    "arr1=array([1,7,8,9,76.9])\n",
    "arr2=array([1,7,8,98,7.9])\n",
    "arr3=arr1+arr2\n",
    "print(arr3)"
   ]
  },
  {
   "cell_type": "code",
   "execution_count": 27,
   "id": "a762b456",
   "metadata": {},
   "outputs": [
    {
     "name": "stdout",
     "output_type": "stream",
     "text": [
      "[0.84147098 0.6569866  0.98935825 0.41211849 0.99761906]\n",
      "[1.         2.64575131 2.82842712 3.         8.76926451]\n",
      "101.9\n"
     ]
    }
   ],
   "source": [
    "arr1=array([1,7,8,9,76.9])\n",
    "print(sin(arr1))   #we can use all the trignometric functions and log,sqrt,sum,min,max,sort,unique\n",
    "print(sqrt(arr1))\n",
    "print(sum(arr1))"
   ]
  },
  {
   "cell_type": "code",
   "execution_count": 28,
   "id": "9a24d222",
   "metadata": {},
   "outputs": [
    {
     "name": "stdout",
     "output_type": "stream",
     "text": [
      "[ 1.   7.   8.   9.  76.9  1.   7.   8.  98.   7.9]\n"
     ]
    }
   ],
   "source": [
    "arr1=array([1,7,8,9,76.9])\n",
    "arr2=array([1,7,8,98,7.9])\n",
    "print(concatenate([arr1,arr2]))"
   ]
  },
  {
   "cell_type": "code",
   "execution_count": 32,
   "id": "89012425",
   "metadata": {},
   "outputs": [
    {
     "name": "stdout",
     "output_type": "stream",
     "text": [
      "[ 1.   7.   8.   9.  76.9]\n",
      "[ 1.   7.   8.   9.  76.9]\n",
      "2755247402128\n",
      "2755269486992\n",
      "[ 1.   7.  65.   9.  76.9]\n",
      "[ 1.   7.  65.   9.  76.9]\n",
      "[ 1.   7.  65.   9.  76.9]\n",
      "[ 1.   7.   8.   9.  76.9]\n"
     ]
    }
   ],
   "source": [
    "#copying an array-it has 2-shallow copy and deep copy \n",
    "\n",
    "arr1=array([1,7,8,9,76.9])\n",
    "arr2=arr1.view()\n",
    "print(arr1)\n",
    "print(arr2)\n",
    "print(id(arr1))\n",
    "print(id(arr2))\n",
    "\n",
    "#shallow copy-it copt the elements but both the arrays will dependend on each other\n",
    "\n",
    "\n",
    "arr1=array([1,7,8,9,76.9])\n",
    "arr2=arr1.view()\n",
    "arr1[2]=65  #here two arrays are changing see the output\n",
    "print(arr1)\n",
    "print(arr2)\n",
    "\n",
    "#deep copy-it copt the elements but both the arrays will not dependend on each other\n",
    "\n",
    "arr1=array([1,7,8,9,76.9])\n",
    "arr2=arr1.copy()\n",
    "arr1[2]=65  #here onlu array1 is changing see the output\n",
    "print(arr1)\n",
    "print(arr2)"
   ]
  },
  {
   "cell_type": "code",
   "execution_count": 43,
   "id": "32622510",
   "metadata": {},
   "outputs": [
    {
     "name": "stdout",
     "output_type": "stream",
     "text": [
      "int32\n",
      "2\n",
      "12\n",
      "[ 8  9  8  5  6 65  9  6  5 65 43 76]\n",
      "[[[ 8  9  8]\n",
      "  [ 5  6 65]]\n",
      "\n",
      " [[ 9  6  5]\n",
      "  [65 43 76]]]\n"
     ]
    }
   ],
   "source": [
    "#working with matrix \n",
    "\n",
    "arr1=array([\n",
    "                [8,9,8,5,6,65] ,\n",
    "                [9,6,5,65,43,76]\n",
    "    \n",
    "           ])\n",
    "\n",
    "arr2=arr1.flatten()   #it converts multi` dimensional array to one dimensional array\n",
    "arr3=arr2.reshape(4,3)   #this function converts one dimensional array to multi dimensional array\n",
    "arr3=arr2.reshape(2,2,3) \n",
    "print(arr1.dtype)\n",
    "print(arr1.ndim)  #it gives the dimensional of the array\n",
    "print(arr1.size)\n",
    "print(arr2)\n",
    "print(arr3)"
   ]
  },
  {
   "cell_type": "code",
   "execution_count": 47,
   "id": "82a847e4",
   "metadata": {},
   "outputs": [
    {
     "name": "stdout",
     "output_type": "stream",
     "text": [
      "[[ 8  9  8  8]\n",
      " [ 9 43  7  6]]\n",
      "[[1 2 3 4]\n",
      " [5 6 7 8]]\n"
     ]
    }
   ],
   "source": [
    "arr1=array([\n",
    "                [8,9,8,8] ,\n",
    "                [9,43,7,6]\n",
    "    \n",
    "           ])\n",
    "m=matrix(arr1)  #we r converting here two dimensional array into matrix\n",
    "#above three steps can be written as\n",
    "n = matrix('1 2 3 4 ; 5 6 7 8')\n",
    "print(m)\n",
    "print(n)"
   ]
  },
  {
   "cell_type": "code",
   "execution_count": 50,
   "id": "b70afdfe",
   "metadata": {},
   "outputs": [
    {
     "name": "stdout",
     "output_type": "stream",
     "text": [
      "[1 6]\n",
      "1\n",
      "8\n"
     ]
    }
   ],
   "source": [
    "#diagnol elements\n",
    "\n",
    "n = matrix('1 2 3 4 ; 5 6 7 8')\n",
    "print(diagonal(n))\n",
    "print(n.min())\n",
    "print(n.max())"
   ]
  },
  {
   "cell_type": "code",
   "execution_count": 51,
   "id": "e02dd632",
   "metadata": {},
   "outputs": [
    {
     "name": "stdout",
     "output_type": "stream",
     "text": [
      "[[ 4 11  7  9]\n",
      " [14 14 14 16]]\n"
     ]
    }
   ],
   "source": [
    "#adding matrices\n",
    "\n",
    "n1 = matrix('1 2 3 4 ; 5 6 7 8')\n",
    "n2 = matrix('3 9 4 5 ; 9 8 7 8')\n",
    "n3=n1 + n2\n",
    "print (n3)"
   ]
  },
  {
   "cell_type": "code",
   "execution_count": null,
   "id": "6420c5ee",
   "metadata": {},
   "outputs": [],
   "source": []
  }
 ],
 "metadata": {
  "kernelspec": {
   "display_name": "Python 3 (ipykernel)",
   "language": "python",
   "name": "python3"
  },
  "language_info": {
   "codemirror_mode": {
    "name": "ipython",
    "version": 3
   },
   "file_extension": ".py",
   "mimetype": "text/x-python",
   "name": "python",
   "nbconvert_exporter": "python",
   "pygments_lexer": "ipython3",
   "version": "3.9.7"
  }
 },
 "nbformat": 4,
 "nbformat_minor": 5
}
