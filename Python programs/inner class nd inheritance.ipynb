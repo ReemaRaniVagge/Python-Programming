{
 "cells": [
  {
   "cell_type": "code",
   "execution_count": 7,
   "id": "34f295ec",
   "metadata": {},
   "outputs": [
    {
     "name": "stdout",
     "output_type": "stream",
     "text": [
      "reema 90\n",
      "reema 90\n"
     ]
    }
   ],
   "source": [
    "#below example says that a student info and what kind of laptop there using\n",
    "class student:\n",
    "    def __init__(self,name,rollno):\n",
    "        self.name=name\n",
    "        self.rollno=rollno\n",
    "        self.lap=self.laptop()   #here we intializing the inner class example as statement 1\n",
    "        \n",
    "    def show(self):\n",
    "        print(self.name,self.rollno)\n",
    "        \n",
    "    class laptop:\n",
    "        def __init__(self):\n",
    "            self.brand=\"lenovo\"\n",
    "            self.cpu='i5'\n",
    "            self.ram=8\n",
    "        \n",
    "s1=student(\"reema\",90)\n",
    "s2=student(\"juice\",87)\n",
    "print(s1.name,s1.rollno)\n",
    "\n",
    "\n",
    "#like we can print them as above but u can also print them as shown below\n",
    "\n",
    "s1.show()\n",
    "s1.lap.brand   #here we are calling the inner class\n",
    "\n",
    "#y1.ou can create object of inner class inside the outer class or 2. you can create object of inner class outside the outer class provide\n",
    "#you can use outer class name to call it \n",
    "\n",
    "\n",
    "y=student.laptop()  #example as statement 2"
   ]
  },
  {
   "cell_type": "code",
   "execution_count": 9,
   "id": "a101bfa0",
   "metadata": {},
   "outputs": [
    {
     "name": "stdout",
     "output_type": "stream",
     "text": [
      "reema 90\n",
      "lenovo i5 8\n"
     ]
    }
   ],
   "source": [
    "#show \n",
    "\n",
    "class student:\n",
    "    def __init__(self,name,rollno):\n",
    "        self.name=name\n",
    "        self.rollno=rollno\n",
    "        self.lap=self.laptop()   \n",
    "        \n",
    "    def show(self):\n",
    "        print(self.name,self.rollno)\n",
    "        self.lap.show()\n",
    "        \n",
    "    class laptop:\n",
    "        def __init__(self):\n",
    "            self.brand=\"lenovo\"\n",
    "            self.cpu='i5'\n",
    "            self.ram=8\n",
    "        def show(self):\n",
    "            print(self.brand,self.cpu,self.ram)\n",
    "\n",
    "s1=student(\"reema\",90)\n",
    "s2=student(\"juice\",87)\n",
    "            \n",
    "s1.show()"
   ]
  },
  {
   "cell_type": "code",
   "execution_count": 15,
   "id": "66434f82",
   "metadata": {},
   "outputs": [
    {
     "name": "stdout",
     "output_type": "stream",
     "text": [
      "first example\n",
      "second example\n",
      "first example\n",
      "second example\n"
     ]
    }
   ],
   "source": [
    "#inheritance-superclass-parentclass and subclass-child class\n",
    "\n",
    "class A:   #superclass\n",
    "    def f1(self):\n",
    "        print(\"first example\")\n",
    "        \n",
    "    def f2(self):\n",
    "        print(\"second example\")\n",
    "        \n",
    "        #single level inheritance\n",
    "class B(A):  #representing b is the child of a so all the properties of a is in b-subclass\n",
    "    def f3(self):\n",
    "        print(\"first example\")\n",
    "    def f4(self):\n",
    "        print(\"second example\")\n",
    "a1=A()        \n",
    "a1.f1()\n",
    "a1.f2()\n",
    "\n",
    "b1=B()        \n",
    "b1.f1()\n",
    "b1.f2()\n"
   ]
  },
  {
   "cell_type": "code",
   "execution_count": 20,
   "id": "b15ba55e",
   "metadata": {},
   "outputs": [
    {
     "name": "stdout",
     "output_type": "stream",
     "text": [
      "first example\n"
     ]
    }
   ],
   "source": [
    "#multi level inheritance\n",
    "\n",
    "class A:   #superclass\n",
    "    def f1(self):\n",
    "        print(\"first example\")\n",
    "        \n",
    "    def f2(self):\n",
    "        print(\"second example\")\n",
    "        \n",
    "class B(A):  #representing b is the child of a so all the properties of a is in b-subclass\n",
    "    def f3(self):\n",
    "        print(\"first example\")\n",
    "    def f4(self):\n",
    "        print(\"second example\")\n",
    "        \n",
    "class C(B):\n",
    "    def f4(self):\n",
    "        print(\"second example\")\n",
    "        \n",
    "\n",
    "\n",
    "c1=C()\n",
    "c1.f1()"
   ]
  },
  {
   "cell_type": "code",
   "execution_count": 22,
   "id": "9a5d962c",
   "metadata": {},
   "outputs": [
    {
     "name": "stdout",
     "output_type": "stream",
     "text": [
      "first example\n",
      "second example\n"
     ]
    }
   ],
   "source": [
    "#multiple inheritance\n",
    "\n",
    "#if b is not subclass of a then c wants to be subclass of  both a and b the below code\n",
    "\n",
    "class A:   #superclass\n",
    "    def f1(self):\n",
    "        print(\"first example\")\n",
    "        \n",
    "    def f2(self):\n",
    "        print(\"second example\")\n",
    "        \n",
    "class B:  \n",
    "    def f3(self):\n",
    "        print(\"first example\")\n",
    "    def f4(self):\n",
    "        print(\"second example\")\n",
    "        \n",
    "class C(A,B):\n",
    "    def f4(self):\n",
    "        print(\"second example\")\n",
    "        \n",
    "c1=C()\n",
    "c1.f1()\n",
    "c1.f4()"
   ]
  },
  {
   "cell_type": "code",
   "execution_count": 24,
   "id": "5cfb61dd",
   "metadata": {},
   "outputs": [
    {
     "name": "stdout",
     "output_type": "stream",
     "text": [
      "hello reem\n"
     ]
    }
   ],
   "source": [
    "#constructor in inheritance\n",
    "\n",
    "class A:   #superclass\n",
    "    def __init__(self):\n",
    "        print(\"hello\")\n",
    "    \n",
    "    def f1(self):\n",
    "        print(\"first example\")\n",
    "        \n",
    "    def f2(self):\n",
    "        print(\"second example\")\n",
    "        \n",
    "class B(A):  \n",
    "    def __init__(self):  #if u create object of subclass it will first try find init of subclass if it is not fiund then it will call init of superclass\n",
    "        print(\"hello reem\")\n",
    "        \n",
    "    def f3(self):\n",
    "        print(\"first example\")\n",
    "    def f4(self):\n",
    "        print(\"second example\")\n",
    "        \n",
    "#subclass can acess all the features of super class but vice versa is not posible\n",
    "        \n",
    "a1=B() #parenthesis is constructor it calls the method which is in it and this calls the __init__\n"
   ]
  },
  {
   "cell_type": "code",
   "execution_count": 25,
   "id": "8001be02",
   "metadata": {},
   "outputs": [
    {
     "name": "stdout",
     "output_type": "stream",
     "text": [
      "hello\n",
      "hello reem\n"
     ]
    }
   ],
   "source": [
    "#in above example when we call a1=b() it prints the b init but we want to print both a and b init then we use keyword super.\n",
    "\n",
    "class A:   #superclass\n",
    "    def __init__(self):\n",
    "        print(\"hello\")\n",
    "    \n",
    "    def f1(self):\n",
    "        print(\"first example\")\n",
    "        \n",
    "    def f2(self):\n",
    "        print(\"second example\")\n",
    "        \n",
    "class B(A):  \n",
    "    def __init__(self):  #if u create object of subclass it will first try find init of subclass if it is not fiund then it will call init of superclass\n",
    "        super().__init__()\n",
    "        print(\"hello reem\")\n",
    "        \n",
    "    def f3(self):\n",
    "        print(\"first example\")\n",
    "    def f4(self):\n",
    "        print(\"second example\")\n",
    "        \n",
    "#subclass can acess all the features of super class but vice versa is not posible\n",
    "        \n",
    "a1=B() #parenthesis is constructor it calls the method which is in it and this calls the __init__"
   ]
  },
  {
   "cell_type": "code",
   "execution_count": 28,
   "id": "ad619389",
   "metadata": {},
   "outputs": [
    {
     "name": "stdout",
     "output_type": "stream",
     "text": [
      "hello\n",
      "hello reeee\n",
      "first example\n"
     ]
    }
   ],
   "source": [
    "#method resolution order-mro-when multilevel inheritance it calls from left to right\n",
    "\n",
    "class A:   #superclass\n",
    "    def __init__(self):\n",
    "        print(\"hello\")\n",
    "        \n",
    "    def f1(self):\n",
    "        print(\"first example\")\n",
    "        \n",
    "    def f2(self):\n",
    "        print(\"second example\")\n",
    "        \n",
    "class B:  \n",
    "    def __init__(self):\n",
    "        print(\"hello ree\")\n",
    "        \n",
    "    def f3(self):\n",
    "        print(\"third example\")\n",
    "    def f4(self):\n",
    "        print(\"fourth example\")\n",
    "        \n",
    "class C(A,B):\n",
    "    def __init__(self):\n",
    "        super().__init__() #-when it is executed it is only printing a but not b so  here we used mro \n",
    "        print(\"hello reeee\")\n",
    "        \n",
    "    def f4(self):\n",
    "        print(\"second example\")\n",
    "        \n",
    "a1=C()\n",
    "a1.f1()\n",
    "        "
   ]
  },
  {
   "cell_type": "code",
   "execution_count": 30,
   "id": "e65c5ced",
   "metadata": {},
   "outputs": [
    {
     "name": "stdout",
     "output_type": "stream",
     "text": [
      "hello\n",
      "hello reeee\n",
      "second example\n"
     ]
    }
   ],
   "source": [
    "class A:   #superclass\n",
    "    def __init__(self):\n",
    "        print(\"hello\")\n",
    "        \n",
    "    def f1(self):\n",
    "        print(\"first example\")\n",
    "        \n",
    "    def f2(self):\n",
    "        print(\"second example\")\n",
    "        \n",
    "class B:  \n",
    "    def __init__(self):\n",
    "        print(\"hello ree\")\n",
    "        \n",
    "    def f3(self):\n",
    "        print(\"third example\")\n",
    "    def f4(self):\n",
    "        print(\"fourth example\")\n",
    "        \n",
    "class C(A,B):\n",
    "    def __init__(self):\n",
    "        super().__init__() #-when it is executed it is only printing a but not b so  here we used mro \n",
    "        print(\"hello reeee\")\n",
    "        \n",
    "    def f4(self):\n",
    "        print(\"second example\")\n",
    "        \n",
    "    def feed(self):\n",
    "        super().f2()  #when u want to access the class b too\n",
    "a1=C()\n",
    "a1.feed()\n",
    "        "
   ]
  },
  {
   "cell_type": "code",
   "execution_count": null,
   "id": "7076ab6b",
   "metadata": {},
   "outputs": [],
   "source": []
  },
  {
   "cell_type": "code",
   "execution_count": null,
   "id": "c68afc7a",
   "metadata": {},
   "outputs": [],
   "source": []
  },
  {
   "cell_type": "code",
   "execution_count": null,
   "id": "cec483e0",
   "metadata": {},
   "outputs": [],
   "source": []
  }
 ],
 "metadata": {
  "kernelspec": {
   "display_name": "Python 3 (ipykernel)",
   "language": "python",
   "name": "python3"
  },
  "language_info": {
   "codemirror_mode": {
    "name": "ipython",
    "version": 3
   },
   "file_extension": ".py",
   "mimetype": "text/x-python",
   "name": "python",
   "nbconvert_exporter": "python",
   "pygments_lexer": "ipython3",
   "version": "3.9.7"
  }
 },
 "nbformat": 4,
 "nbformat_minor": 5
}
