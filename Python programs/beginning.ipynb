{
 "cells": [
  {
   "cell_type": "code",
   "execution_count": 5,
   "id": "3bc4a9fd",
   "metadata": {},
   "outputs": [
    {
     "data": {
      "text/plain": [
       "'reemareemareemareemareema'"
      ]
     },
     "execution_count": 5,
     "metadata": {},
     "output_type": "execute_result"
    }
   ],
   "source": [
    "5*'reema'"
   ]
  },
  {
   "cell_type": "code",
   "execution_count": 6,
   "id": "95a86cc9",
   "metadata": {},
   "outputs": [
    {
     "name": "stdout",
     "output_type": "stream",
     "text": [
      "reemareemareemareemareema\n"
     ]
    }
   ],
   "source": [
    "print('reema'*5)"
   ]
  },
  {
   "cell_type": "code",
   "execution_count": 11,
   "id": "c9376505",
   "metadata": {},
   "outputs": [
    {
     "name": "stdout",
     "output_type": "stream",
     "text": [
      "reema\n"
     ]
    },
    {
     "ename": "TypeError",
     "evalue": "'str' object does not support item assignment",
     "output_type": "error",
     "traceback": [
      "\u001b[1;31m---------------------------------------------------------------------------\u001b[0m",
      "\u001b[1;31mTypeError\u001b[0m                                 Traceback (most recent call last)",
      "\u001b[1;32m~\\AppData\\Local\\Temp/ipykernel_8160/1198064940.py\u001b[0m in \u001b[0;36m<module>\u001b[1;34m\u001b[0m\n\u001b[0;32m      4\u001b[0m \u001b[0mhey\u001b[0m\u001b[1;33m[\u001b[0m\u001b[1;36m1\u001b[0m\u001b[1;33m:\u001b[0m\u001b[1;36m3\u001b[0m\u001b[1;33m]\u001b[0m\u001b[1;33m\u001b[0m\u001b[1;33m\u001b[0m\u001b[0m\n\u001b[0;32m      5\u001b[0m \u001b[0mhey\u001b[0m\u001b[1;33m[\u001b[0m\u001b[1;36m3\u001b[0m\u001b[1;33m:\u001b[0m\u001b[1;33m]\u001b[0m\u001b[1;33m\u001b[0m\u001b[1;33m\u001b[0m\u001b[0m\n\u001b[1;32m----> 6\u001b[1;33m \u001b[0mhey\u001b[0m\u001b[1;33m[\u001b[0m\u001b[1;36m3\u001b[0m\u001b[1;33m:\u001b[0m\u001b[1;36m4\u001b[0m\u001b[1;33m]\u001b[0m\u001b[1;33m=\u001b[0m\u001b[1;34m\"am\"\u001b[0m\u001b[1;33m\u001b[0m\u001b[1;33m\u001b[0m\u001b[0m\n\u001b[0m",
      "\u001b[1;31mTypeError\u001b[0m: 'str' object does not support item assignment"
     ]
    }
   ],
   "source": [
    "hey=\"reema\"  #variable is the container to put ur values foe ex we r storing \n",
    "print(hey)\n",
    "hey[0]\n",
    "hey[1:3]\n",
    "hey[3:]\n",
    "hey[3:4]=\"am\"       #string is immutable"
   ]
  },
  {
   "cell_type": "code",
   "execution_count": 14,
   "id": "e639c0f6",
   "metadata": {},
   "outputs": [
    {
     "data": {
      "text/plain": [
       "5"
      ]
     },
     "execution_count": 14,
     "metadata": {},
     "output_type": "execute_result"
    }
   ],
   "source": [
    "'ma'+hey[3:4]\n",
    "len(hey)\n"
   ]
  },
  {
   "cell_type": "code",
   "execution_count": 19,
   "id": "6d7b601d",
   "metadata": {},
   "outputs": [
    {
     "data": {
      "text/plain": [
       "[25, 6, 8, 9, 45, 34, 56, 78, 89]"
      ]
     },
     "execution_count": 19,
     "metadata": {},
     "output_type": "execute_result"
    }
   ],
   "source": [
    "#lists\n",
    "num=[25,6,7,8,9]           #it stores set of values\n",
    "num\n",
    "num[0]\n",
    "num[:4]\n",
    "num[-2]\n",
    "key=['hlo','joo','kooo','hjdhjhj']\n",
    "key\n",
    "values=[9.5,'reema',9]\n",
    "nil=[num,key]\n",
    "nil\n",
    "num.append(45)#it appends at end\n",
    "num\n",
    "num.insert(1,65)#we r specifying index value to replace \n",
    "num\n",
    "num.remove(65)\n",
    "num\n",
    "num.pop(2)#removing by index\n",
    "num\n",
    "num.extend([34,56,78,89])#it adds multiple values\n",
    "num"
   ]
  },
  {
   "cell_type": "code",
   "execution_count": 48,
   "id": "43f3c6f6",
   "metadata": {
    "scrolled": false
   },
   "outputs": [
    {
     "data": {
      "text/plain": [
       "{1: 'kkkk', 5: 'utjdnj', 'monika': 'cs'}"
      ]
     },
     "execution_count": 48,
     "metadata": {},
     "output_type": "execute_result"
    }
   ],
   "source": [
    "#dictionaries\n",
    "dicdt={2:'hehyy',1:'kkkk',5:'utjdnj'}\n",
    "dicdt\n",
    "dicdt[5]\n",
    "dicdt.get(1)\n",
    "dicdt.get(1,'not found')\n",
    "dicdt.get(3,'not found')#if 3 is not there in dictionary it says not found\n",
    "dicdt\n",
    "dicdt['monika']='cs' #it ads the value\n",
    "dicdt\n",
    "del  dicdt[2]\n",
    "dicdt"
   ]
  },
  {
   "cell_type": "code",
   "execution_count": 52,
   "id": "6573f680",
   "metadata": {},
   "outputs": [
    {
     "ename": "TypeError",
     "evalue": "'dict' object is not callable",
     "output_type": "error",
     "traceback": [
      "\u001b[1;31m---------------------------------------------------------------------------\u001b[0m",
      "\u001b[1;31mTypeError\u001b[0m                                 Traceback (most recent call last)",
      "\u001b[1;32m~\\AppData\\Local\\Temp/ipykernel_7484/1794990723.py\u001b[0m in \u001b[0;36m<module>\u001b[1;34m\u001b[0m\n\u001b[0;32m      1\u001b[0m \u001b[0mkeys\u001b[0m\u001b[1;33m=\u001b[0m\u001b[1;33m[\u001b[0m\u001b[1;34m'reema'\u001b[0m\u001b[1;33m,\u001b[0m \u001b[1;34m'rani'\u001b[0m\u001b[1;33m,\u001b[0m \u001b[1;34m'hey'\u001b[0m\u001b[1;33m]\u001b[0m\u001b[1;33m\u001b[0m\u001b[1;33m\u001b[0m\u001b[0m\n\u001b[0;32m      2\u001b[0m \u001b[0mvalues\u001b[0m\u001b[1;33m=\u001b[0m\u001b[1;33m[\u001b[0m\u001b[1;34m'python'\u001b[0m\u001b[1;33m,\u001b[0m \u001b[1;34m'java'\u001b[0m\u001b[1;33m,\u001b[0m \u001b[1;34m'c'\u001b[0m\u001b[1;33m]\u001b[0m\u001b[1;33m\u001b[0m\u001b[1;33m\u001b[0m\u001b[0m\n\u001b[1;32m----> 3\u001b[1;33m \u001b[0ma\u001b[0m \u001b[1;33m=\u001b[0m \u001b[0mdict\u001b[0m\u001b[1;33m(\u001b[0m\u001b[0mzip\u001b[0m\u001b[1;33m(\u001b[0m\u001b[0mkeys\u001b[0m\u001b[1;33m,\u001b[0m \u001b[0mvalues\u001b[0m\u001b[1;33m)\u001b[0m\u001b[1;33m)\u001b[0m\u001b[1;33m\u001b[0m\u001b[1;33m\u001b[0m\u001b[0m\n\u001b[0m\u001b[0;32m      4\u001b[0m \u001b[0mprint\u001b[0m\u001b[1;33m(\u001b[0m\u001b[0ma\u001b[0m\u001b[1;33m)\u001b[0m\u001b[1;33m\u001b[0m\u001b[1;33m\u001b[0m\u001b[0m\n",
      "\u001b[1;31mTypeError\u001b[0m: 'dict' object is not callable"
     ]
    }
   ],
   "source": [
    "keys=['reema', 'rani', 'hey'] \n",
    "values=['python', 'java', 'c']\n",
    "a = dict(zip(keys, values))\n",
    "print(a)"
   ]
  },
  {
   "cell_type": "code",
   "execution_count": 58,
   "id": "0ac5b9c1",
   "metadata": {},
   "outputs": [
    {
     "data": {
      "text/plain": [
       "float"
      ]
     },
     "execution_count": 58,
     "metadata": {},
     "output_type": "execute_result"
    }
   ],
   "source": [
    "#variables\n",
    "x=6\n",
    "id(x)#address\n",
    "name=\"reema\"\n",
    "id(name)\n",
    "\n",
    "a=10\n",
    "b=a\n",
    "id(a)#both a and b has same adress as b=a..it takes one box only\n",
    "id(10)\n",
    "#if i took k=10 a,b,k=10 it has same address but when you change values a and k =4 the memory adrress which is 10 goes to garbage collection\n",
    "pi=3.14#this value cannot be changed because it is constant\n",
    "type(pi)"
   ]
  },
  {
   "cell_type": "code",
   "execution_count": 19,
   "id": "eb188faf",
   "metadata": {},
   "outputs": [
    {
     "data": {
      "text/plain": [
       "0"
      ]
     },
     "execution_count": 19,
     "metadata": {},
     "output_type": "execute_result"
    }
   ],
   "source": [
    "#datatypes\n",
    "#1.numeric-int,bool,float,complex\n",
    "num=2.88\n",
    "type(num)\n",
    "num=9\n",
    "type(num)\n",
    "num=7+3j\n",
    "type(num)#types\n",
    "a=4.78\n",
    "b=int(a)\n",
    "type(b)\n",
    "b\n",
    "k=float(b)\n",
    "k\n",
    "#converting numbers to complex numbers using complex function\n",
    "k=9\n",
    "c=complex(b,k)\n",
    "c\n",
    "#boolean values=bool ,i.e true or false\n",
    "b<k #yes b is less than k so it returns true\n",
    "#another form to represt bool\n",
    "bool=b<k\n",
    "bool  #it returns true\n",
    "type(bool)  #it returns bool itself\n",
    "b>k #it has true or false and weuse true =1 and false=0\n",
    "int(True)\n",
    "int(False)"
   ]
  },
  {
   "cell_type": "code",
   "execution_count": 18,
   "id": "5a503ee8",
   "metadata": {},
   "outputs": [
    {
     "data": {
      "text/plain": [
       "range"
      ]
     },
     "execution_count": 18,
     "metadata": {},
     "output_type": "execute_result"
    }
   ],
   "source": [
    "#list,tuple,set,string,range comes under sequence\n",
    "o=[34,87,90,]  #list\n",
    "type(o)\n",
    "a={45,8,9,0}   #set\n",
    "type(a)\n",
    "t=(6,8,9,0,7)  #tuple\n",
    "type(t)\n",
    "s=\"reema\"      #string we can use double quotes or single quots and single quotes for example x='s' a character is also a part of string\n",
    "type(s)\n",
    "#iteration means going from 1 to 10 line\n",
    "range(10)\n",
    "list(range(10))\n",
    "list(range(2,10,2))      #printing even numbers it says that starting from 2 and ending at 10 difference is 2\n",
    "type(range(10))\n"
   ]
  },
  {
   "cell_type": "code",
   "execution_count": 23,
   "id": "847e02f2",
   "metadata": {},
   "outputs": [
    {
     "data": {
      "text/plain": [
       "'iphone'"
      ]
     },
     "execution_count": 23,
     "metadata": {},
     "output_type": "execute_result"
    }
   ],
   "source": [
    "#dictionaries are mapping type it has keys and value one key and it can have single or multiple values ..we can use not only strings but numbers too for example my rollnumber\n",
    "#keys should be unique and should be immutable\n",
    "d={'tiger':'iphone','giraffe':'samsung','goat':'airtel'}\n",
    "d\n",
    "d.keys()  #returns keys\n",
    "d.values() #return values\n",
    "d['goat'] #it returns if we mention specify key it gives specified value\n",
    "d.get('tiger') #it is another method for above one"
   ]
  },
  {
   "cell_type": "code",
   "execution_count": 33,
   "id": "a800cbb0",
   "metadata": {},
   "outputs": [
    {
     "data": {
      "text/plain": [
       "False"
      ]
     },
     "execution_count": 33,
     "metadata": {},
     "output_type": "execute_result"
    }
   ],
   "source": [
    "#operators\n",
    "x=9\n",
    "y=2\n",
    "x+=2  #assignment order\n",
    "x\n",
    "x*=3\n",
    "x\n",
    "a,b=7,8 \n",
    "a\n",
    "b\n",
    "#unary operators\n",
    "h=7\n",
    "-h\n",
    "#relational operators\n",
    "#>,<,==,<=,>=,!=\n",
    "x==y\n",
    "x>=y\n",
    "#logical operators\n",
    "#and ,or not-remmeber truth tables\n",
    "a=9\n",
    "b=7\n",
    "a<8 and b<5\n",
    "x=True\n",
    "x\n",
    "not x #negoatation"
   ]
  },
  {
   "cell_type": "code",
   "execution_count": 41,
   "id": "3ecc2f86",
   "metadata": {},
   "outputs": [
    {
     "data": {
      "text/plain": [
       "15"
      ]
     },
     "execution_count": 41,
     "metadata": {},
     "output_type": "execute_result"
    }
   ],
   "source": [
    "#binary formats\n",
    "#octal,hexadecimal,binary\n",
    "bin(45)  #bin function is used to convert decimal to binary \n",
    "0b0101   #0b represents it is binary\n",
    "oct(2)   #oct is used for octal\n",
    "0o1010   #0o represents it is octal\n",
    "hex(25)  #hex is used for hexadecimal\n",
    "0x1010   #0x is used for hexadecimal\n",
    "hex(10)\n",
    "0xf"
   ]
  },
  {
   "cell_type": "code",
   "execution_count": 46,
   "id": "c1175b5b",
   "metadata": {},
   "outputs": [
    {
     "name": "stdout",
     "output_type": "stream",
     "text": [
      "9\n",
      "5\n"
     ]
    }
   ],
   "source": [
    "#swap 2  variables\n",
    "a=5\n",
    "b=9\n",
    "#we store one variable as temp after that we have do down operation\n",
    "temp=a\n",
    "a=b\n",
    "b=temp     #if we do here b=a we loose one value so we use temp here\n",
    "print(a)\n",
    "print(b)\n",
    "#here we r using third varaiable so to avoid this we use below formula\n",
    "a=a+b  \n",
    "b=a-b\n",
    "a=a-b\n",
    "#internally above formula using three bits when you convert them in binary so to avoid this in place of +,- replace with xor\n",
    "a=a^b  \n",
    "b=a^b\n",
    "a=a^b\n",
    "#xor will not waste extra bits\n",
    "#another method\n",
    "a,b=b,a   #it works on single line but it doesnot work in two lines\n",
    "#above function works on principle of ROT_TWO() rotating the value"
   ]
  },
  {
   "cell_type": "code",
   "execution_count": 50,
   "id": "ab6056b3",
   "metadata": {},
   "outputs": [
    {
     "data": {
      "text/plain": [
       "1"
      ]
     },
     "execution_count": 50,
     "metadata": {},
     "output_type": "execute_result"
    }
   ],
   "source": [
    "#bitwise operators\n",
    "#complement(-,~tilde operator),and(&),xor(^),or(|),letshift,rightshift(>>)\n",
    "~12  #reverse of your binary format\n",
    "#12=00001100 when we do complaiment i.e 11110011=-13 when you convert negative no to postive no then 1's complement+1\n",
    "12 & 13  #ans=12 coz write binary format of 12,13 and perform and operation then u will get ans 12\n",
    "12|13    #above explanation only but perform or operation\n",
    "12^13    #perform xor operation\n",
    "10<<2\n",
    "#10=1010 apply left shift by 2 i.e 101000"
   ]
  },
  {
   "cell_type": "code",
   "execution_count": null,
   "id": "14d211f2",
   "metadata": {},
   "outputs": [],
   "source": []
  }
 ],
 "metadata": {
  "kernelspec": {
   "display_name": "Python 3 (ipykernel)",
   "language": "python",
   "name": "python3"
  },
  "language_info": {
   "codemirror_mode": {
    "name": "ipython",
    "version": 3
   },
   "file_extension": ".py",
   "mimetype": "text/x-python",
   "name": "python",
   "nbconvert_exporter": "python",
   "pygments_lexer": "ipython3",
   "version": "3.9.7"
  }
 },
 "nbformat": 4,
 "nbformat_minor": 5
}
