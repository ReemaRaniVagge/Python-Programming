{
 "cells": [
  {
   "cell_type": "code",
   "execution_count": 1,
   "id": "04aa0fe7",
   "metadata": {},
   "outputs": [
    {
     "name": "stdout",
     "output_type": "stream",
     "text": [
      "reema\n",
      "8.0\n",
      "6\n",
      "8\n",
      "9\n"
     ]
    }
   ],
   "source": [
    "#for loop works with sequence i.e list,tuple...\n",
    "\n",
    "x=[\"reema\",8.0,6,8,9]   #we are using for with list\n",
    "for i in x:      #onebyone fetching the value \n",
    "    print(i)"
   ]
  },
  {
   "cell_type": "code",
   "execution_count": null,
   "id": "12f0e327",
   "metadata": {},
   "outputs": [],
   "source": []
  },
  {
   "cell_type": "code",
   "execution_count": 1,
   "id": "58880096",
   "metadata": {},
   "outputs": [
    {
     "name": "stdout",
     "output_type": "stream",
     "text": [
      "g\n",
      "i\n",
      "r\n",
      "a\n",
      "f\n",
      "f\n",
      "e\n",
      "r\n",
      "e\n",
      "e\n",
      "m\n",
      "a\n",
      "0\n",
      "1\n",
      "2\n",
      "3\n",
      "4\n",
      "5\n",
      "6\n",
      "7\n",
      "8\n",
      "9\n",
      "21\n",
      "23\n",
      "25\n",
      "27\n",
      "29\n"
     ]
    }
   ],
   "source": [
    "x=\"giraffe\"   #we are using for with string\n",
    "for i in x:      #onebyone fetching the value \n",
    "    print(i)\n",
    "    \n",
    "#another way above ex\n",
    "for i in \"reema\":      #onebyone fetching the value \n",
    "    print(i)\n",
    "#printing 1 to 10\n",
    "for i in range(10):      #onebyone fetching the value \n",
    "    print(i)\n",
    "    \n",
    "#if u want to print middle numbers \n",
    "for i in range(21,31,2):      #here 2 is difference we can use 1,2,3...here we used starting point,ending point and iteration\n",
    "    print(i)"
   ]
  },
  {
   "cell_type": "code",
   "execution_count": 6,
   "id": "400463dd",
   "metadata": {},
   "outputs": [
    {
     "name": "stdout",
     "output_type": "stream",
     "text": [
      "76\n",
      "73\n",
      "70\n",
      "2\n",
      "3\n",
      "4\n",
      "6\n",
      "7\n",
      "8\n",
      "9\n",
      "11\n",
      "12\n",
      "13\n",
      "14\n",
      "16\n",
      "17\n",
      "18\n",
      "19\n"
     ]
    }
   ],
   "source": [
    "#if  u want to print numbers in reverse\n",
    "\n",
    "for i in range(76,67,-3):      #- indicates in descending order we can write -1,-2...\n",
    "    print(i)\n",
    "    \n",
    "#which is divisble by 5 i dont want to print\n",
    "for i in range(2,20): \n",
    "    if i%5!=0:   #if we want which is divisible by 5 then replace != -> ==\n",
    "        print(i)\n"
   ]
  },
  {
   "cell_type": "code",
   "execution_count": 25,
   "id": "fc5797c1",
   "metadata": {},
   "outputs": [
    {
     "name": "stdout",
     "output_type": "stream",
     "text": [
      "enter how many canies you want8\n",
      "candy\n",
      "candy\n",
      "candy\n",
      "candy\n",
      "candy\n",
      "out of stock\n",
      "sorry enough candies are not there\n",
      "reema 0\n",
      "reema 1\n",
      "reema 2\n",
      "reema 3\n"
     ]
    }
   ],
   "source": [
    "#break,continue,pass\n",
    "available = 5\n",
    "x=int(input(\"enter how many canies you want\"))\n",
    "i=1\n",
    "while i<=x:\n",
    "    if i>available:\n",
    "        print(\"out of stock\")\n",
    "        break\n",
    "    print(\"candy\")\n",
    "    i+=1\n",
    "    \n",
    "print(\"sorry enough candies are not there\")\n",
    "\n",
    "\n",
    "#another ex..in this we want to print the number 4\n",
    "for i in range(10):\n",
    "    if i==4:\n",
    "        break                   #here from 4 it is not continuing\n",
    "    print (\"reema\",i)\n",
    "\n"
   ]
  },
  {
   "cell_type": "code",
   "execution_count": 24,
   "id": "e2096256",
   "metadata": {},
   "outputs": [
    {
     "name": "stdout",
     "output_type": "stream",
     "text": [
      "1\n",
      "2\n",
      "4\n",
      "7\n",
      "8\n",
      "bye reema\n",
      "reema 0\n",
      "reema 1\n",
      "reema 2\n",
      "reema 3\n",
      "reema 5\n"
     ]
    }
   ],
   "source": [
    "#continue-skip the condition and continue with next iteration \n",
    "#here we are taking ex i.e we dont want to divisible by 3 or 5\n",
    "\n",
    "for i in range(1,10):\n",
    "    if i%3==0 or i%5==0:   #if u want to eliminate both it is divisble by 3 and 5 then we should write i%3==0 and i%5==0\n",
    "        continue\n",
    "    print(i)\n",
    "print(\"bye reema\")\n",
    "#another ex..in this we want to print the number 4\n",
    "for i in range(6):\n",
    "    if i==4:\n",
    "        continue   #here except 4 everything is printing\n",
    "    print (\"reema\",i)"
   ]
  },
  {
   "cell_type": "code",
   "execution_count": 20,
   "id": "17dc946d",
   "metadata": {},
   "outputs": [
    {
     "name": "stdout",
     "output_type": "stream",
     "text": [
      "reema 2\n",
      "reema 4\n",
      "reema 6\n",
      "reema 8\n",
      "bye reema\n"
     ]
    }
   ],
   "source": [
    "#pass-skip the condition or for empty function or to ski\n",
    "#we dont want to print odd numbers\n",
    "for i in range(2,10):\n",
    "    if(i%2!=0):\n",
    "        pass\n",
    "    else:\n",
    "        print (\"reema\",i)\n",
    "print(\"bye reema\")"
   ]
  },
  {
   "cell_type": "code",
   "execution_count": 6,
   "id": "f650d90d",
   "metadata": {},
   "outputs": [
    {
     "name": "stdout",
     "output_type": "stream",
     "text": [
      "####\n",
      "####\n",
      "####\n",
      "####\n"
     ]
    }
   ],
   "source": [
    "for i in range(4):\n",
    "    for j in range(4):\n",
    "        print(\"#\",end=\"\")\n",
    "    print()\n"
   ]
  },
  {
   "cell_type": "code",
   "execution_count": 8,
   "id": "c8c131be",
   "metadata": {},
   "outputs": [
    {
     "name": "stdout",
     "output_type": "stream",
     "text": [
      "#\n",
      "##\n",
      "###\n",
      "####\n"
     ]
    }
   ],
   "source": [
    "for i in range(4):\n",
    "    for j in range(i+1):\n",
    "        print(\"#\",end=\"\")\n",
    "    print()\n"
   ]
  },
  {
   "cell_type": "code",
   "execution_count": 18,
   "id": "9073cdc4",
   "metadata": {},
   "outputs": [
    {
     "name": "stdout",
     "output_type": "stream",
     "text": [
      "####\n",
      "###\n",
      "##\n",
      "#\n"
     ]
    }
   ],
   "source": [
    "for i in range(4):\n",
    "    for j in range(4-i):\n",
    "        print(\"#\",end=\"\")\n",
    "    print()\n"
   ]
  },
  {
   "cell_type": "code",
   "execution_count": 19,
   "id": "bf43c7c0",
   "metadata": {},
   "outputs": [
    {
     "name": "stdout",
     "output_type": "stream",
     "text": [
      "90\n"
     ]
    }
   ],
   "source": [
    "#for else\n",
    "nums=[2,87,89,90,76,85]\n",
    "#we r finding in given sequence the number is divisble by 5\n",
    "for num in nums:\n",
    "    if(num%5==0):\n",
    "        print(num)\n",
    "        break   #break is used when you want to get first number which is divisible by 5 \n",
    "else:    #else is done when no num is divisble by 5\n",
    "    print(\"not found\")"
   ]
  },
  {
   "cell_type": "code",
   "execution_count": 16,
   "id": "f8437964",
   "metadata": {},
   "outputs": [
    {
     "name": "stdout",
     "output_type": "stream",
     "text": [
      "enter a no9\n",
      "not prime\n"
     ]
    }
   ],
   "source": [
    "#prime or not\n",
    "\n",
    "num=int(input(\"enter a no\"))\n",
    "for i in range(2,num):\n",
    "    if num%i==0:\n",
    "        print(\"not prime\")\n",
    "        break\n",
    "else:\n",
    "    print(\"prime\")"
   ]
  },
  {
   "cell_type": "code",
   "execution_count": 7,
   "id": "c1f4bf98",
   "metadata": {},
   "outputs": [
    {
     "name": "stdout",
     "output_type": "stream",
     "text": [
      "*\n",
      "**\n",
      "***\n",
      "****\n",
      "*****\n"
     ]
    }
   ],
   "source": [
    "for i in range(0,5):\n",
    "    for j in range(0,i+1):\n",
    "        print(\"*\",end=\"\")\n",
    "    print()"
   ]
  },
  {
   "cell_type": "code",
   "execution_count": 30,
   "id": "13723f0a",
   "metadata": {},
   "outputs": [
    {
     "name": "stdout",
     "output_type": "stream",
     "text": [
      "5\n",
      "    * \n",
      "   * * \n",
      "  * * * \n",
      " * * * * \n",
      "* * * * * \n"
     ]
    }
   ],
   "source": [
    "def triangle(n):\n",
    "    k=n-1\n",
    "    for i in range(0,n):\n",
    "        for j in range(0,k):\n",
    "            print(end=\" \")\n",
    "        k-=1\n",
    "        for j in range (0,i+1):\n",
    "            print(\"*\",end=\" \")\n",
    "        print()\n",
    "n=int(input())\n",
    "triangle(n)"
   ]
  },
  {
   "cell_type": "code",
   "execution_count": 11,
   "id": "2e224cef",
   "metadata": {},
   "outputs": [
    {
     "name": "stdout",
     "output_type": "stream",
     "text": [
      "5\n",
      "*\n",
      "**\n",
      "***\n",
      "****\n",
      "*****\n"
     ]
    }
   ],
   "source": [
    "def triangle(n):\n",
    "    k=n+1\n",
    "    for i in range(0,n):\n",
    "        for j in range (0,i+1):\n",
    "            print(\"*\",end='')\n",
    "        k+=1\n",
    "        print()\n",
    "n=int(input())\n",
    "triangle(n)"
   ]
  },
  {
   "cell_type": "code",
   "execution_count": 49,
   "id": "2a826e54",
   "metadata": {},
   "outputs": [
    {
     "name": "stdout",
     "output_type": "stream",
     "text": [
      "5\n",
      "* * * * * \n",
      " * * * * \n",
      "  * * * \n",
      "   * * \n",
      "    * \n"
     ]
    }
   ],
   "source": [
    "def triangle(n):\n",
    "    for i in range(n,0,-1):\n",
    "        for j in range(0,n-i):\n",
    "            print(end=\" \")\n",
    "        for j in range (0,i):\n",
    "            print(\"*\",end=\" \")\n",
    "        print()\n",
    "n=int(input())\n",
    "triangle(n)"
   ]
  },
  {
   "cell_type": "code",
   "execution_count": 47,
   "id": "5e5d4504",
   "metadata": {},
   "outputs": [
    {
     "name": "stdout",
     "output_type": "stream",
     "text": [
      "6\n",
      "     * \n",
      "\n",
      "     * * \n",
      "\n",
      "     * * * \n",
      "\n",
      "     * * * * \n",
      "\n",
      "     * * * * * \n",
      "\n",
      "     * * * * * * \n",
      "\n"
     ]
    }
   ],
   "source": [
    "def triangle(n):\n",
    "    for i in range(0,n):\n",
    "        for j in range(0,n-1):\n",
    "            print(end=\" \")\n",
    "        n-=1\n",
    "        for j in range (0,i+1):\n",
    "            print(\"*\",end=\" \")\n",
    "        print()\n",
    "n=int(input())\n",
    "triangle(n)"
   ]
  },
  {
   "cell_type": "code",
   "execution_count": 44,
   "id": "631ccd23",
   "metadata": {},
   "outputs": [
    {
     "name": "stdout",
     "output_type": "stream",
     "text": [
      "5\n",
      "* * * * * \n",
      " * * * * \n",
      "  * * * \n",
      "   * * \n",
      "    * \n"
     ]
    }
   ],
   "source": [
    "n=int(input())\n",
    "for i in range(n,0,-1):\n",
    "    for j in range(0,n-i):\n",
    "        print(end=\" \")\n",
    "    for j in range (0,i):\n",
    "        print(\"*\",end=\" \")\n",
    "    print()\n",
    "        \n",
    "        "
   ]
  },
  {
   "cell_type": "code",
   "execution_count": null,
   "id": "c77c590c",
   "metadata": {},
   "outputs": [],
   "source": []
  }
 ],
 "metadata": {
  "kernelspec": {
   "display_name": "Python 3 (ipykernel)",
   "language": "python",
   "name": "python3"
  },
  "language_info": {
   "codemirror_mode": {
    "name": "ipython",
    "version": 3
   },
   "file_extension": ".py",
   "mimetype": "text/x-python",
   "name": "python",
   "nbconvert_exporter": "python",
   "pygments_lexer": "ipython3",
   "version": "3.9.7"
  }
 },
 "nbformat": 4,
 "nbformat_minor": 5
}
