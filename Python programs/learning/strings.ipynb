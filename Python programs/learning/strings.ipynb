{
 "cells": [
  {
   "cell_type": "code",
   "execution_count": 9,
   "id": "ae0bdb97",
   "metadata": {},
   "outputs": [
    {
     "name": "stdout",
     "output_type": "stream",
     "text": [
      "True\n",
      "False\n"
     ]
    }
   ],
   "source": [
    "   str1=\"this is a string\"\n",
    "   'is' in str1\n",
    "print (True)\n",
    "   'me' in str1\n",
    "print (False)"
   ]
  },
  {
   "cell_type": "code",
   "execution_count": 15,
   "id": "1c9c8bdc",
   "metadata": {},
   "outputs": [
    {
     "name": "stdout",
     "output_type": "stream",
     "text": [
      "2\n",
      "-1\n"
     ]
    }
   ],
   "source": [
    "Str1=\"this is a string\"\n",
    "Str1.find('is')\n",
    "print (2)\n",
    "Str1.find('me')\n",
    "print (-1)\n"
   ]
  },
  {
   "cell_type": "code",
   "execution_count": 20,
   "id": "6a00621c",
   "metadata": {},
   "outputs": [
    {
     "ename": "SyntaxError",
     "evalue": "invalid syntax (Temp/ipykernel_59112/3370441429.py, line 2)",
     "output_type": "error",
     "traceback": [
      "\u001b[1;36m  File \u001b[1;32m\"C:\\Users\\amar\\AppData\\Local\\Temp/ipykernel_59112/3370441429.py\"\u001b[1;36m, line \u001b[1;32m2\u001b[0m\n\u001b[1;33m    Str2 = [1:3]\u001b[0m\n\u001b[1;37m             ^\u001b[0m\n\u001b[1;31mSyntaxError\u001b[0m\u001b[1;31m:\u001b[0m invalid syntax\n"
     ]
    }
   ],
   "source": [
    "   Str2 = 'one two three'\n",
    "   Str2 = [1:3]\n",
    "On\n",
    "   Str2=[:2]\n",
    "On\n",
    "   Str2=[8:]\n",
    "Three\n",
    "\n",
    "\n"
   ]
  },
  {
   "cell_type": "code",
   "execution_count": 23,
   "id": "0f32b8c8",
   "metadata": {},
   "outputs": [
    {
     "name": "stdout",
     "output_type": "stream",
     "text": [
      "Here ise a string\n"
     ]
    }
   ],
   "source": [
    ">>> str1 = \"Here are a string\" \n",
    ">>> corrected_str1 = str1[:5] + \"is\" + str1[7:] \n",
    ">>> print(corrected_str1) \n"
   ]
  },
  {
   "cell_type": "code",
   "execution_count": null,
   "id": "b502a47f",
   "metadata": {},
   "outputs": [],
   "source": []
  }
 ],
 "metadata": {
  "kernelspec": {
   "display_name": "Python 3 (ipykernel)",
   "language": "python",
   "name": "python3"
  },
  "language_info": {
   "codemirror_mode": {
    "name": "ipython",
    "version": 3
   },
   "file_extension": ".py",
   "mimetype": "text/x-python",
   "name": "python",
   "nbconvert_exporter": "python",
   "pygments_lexer": "ipython3",
   "version": "3.9.7"
  }
 },
 "nbformat": 4,
 "nbformat_minor": 5
}
