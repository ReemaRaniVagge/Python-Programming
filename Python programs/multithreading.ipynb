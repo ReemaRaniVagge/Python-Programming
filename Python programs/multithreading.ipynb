{
 "cells": [
  {
   "cell_type": "code",
   "execution_count": 1,
   "id": "823bab21",
   "metadata": {},
   "outputs": [],
   "source": [
    "#break one task into multiple task each small part is a thread"
   ]
  },
  {
   "cell_type": "code",
   "execution_count": 3,
   "id": "9600b92e",
   "metadata": {},
   "outputs": [
    {
     "name": "stdout",
     "output_type": "stream",
     "text": [
      "reema\n",
      "reema\n",
      "reema\n",
      "reema\n",
      "reema\n",
      "rani\n",
      "rani\n",
      "rani\n",
      "rani\n",
      "rani\n"
     ]
    }
   ],
   "source": [
    "class hello:\n",
    "    def run(self):\n",
    "        for i in range(5):\n",
    "            print(\"reema\")\n",
    "    \n",
    "class hey:\n",
    "    def run(self):\n",
    "        for i in range(5):\n",
    "            print(\"rani\")\n",
    "a=hello()\n",
    "b=hey()\n",
    "a.run()\n",
    "b.run()"
   ]
  },
  {
   "cell_type": "code",
   "execution_count": 10,
   "id": "4f848e15",
   "metadata": {},
   "outputs": [
    {
     "name": "stdout",
     "output_type": "stream",
     "text": [
      "reema\n",
      "reema\n",
      "reema\n",
      "reema\n",
      "reema\n",
      "reema\n",
      "reema\n",
      "reema\n",
      "reema\n",
      "reema\n",
      "rani\n",
      "rani\n",
      "rani\n",
      "rani\n",
      "rani\n",
      "rani\n",
      "rani\n",
      "rani\n",
      "rani\n",
      "rani\n"
     ]
    }
   ],
   "source": [
    "#above code is executed at one thread i.e  main thread\n",
    "#now below ex we want to execute hello and hyy in seperate threads\n",
    "#when we deal with threads we should import threading\n",
    "\n",
    "from threading import *\n",
    "class hello(Thread):\n",
    "    def run(self):\n",
    "        for i in range(10):\n",
    "            print(\"reema\")\n",
    "    \n",
    "class hey (Thread):\n",
    "    def run(self):\n",
    "        for i in range(10):\n",
    "            print(\"rani\")\n",
    "\n",
    "a=hello()\n",
    "b=hey()\n",
    "a.start()\n",
    "b.start()"
   ]
  },
  {
   "cell_type": "code",
   "execution_count": 16,
   "id": "21166d8b",
   "metadata": {},
   "outputs": [
    {
     "name": "stdout",
     "output_type": "stream",
     "text": [
      "reema\n",
      "reema\n",
      "rani\n",
      "reema\n",
      "ranireema\n",
      "\n",
      "reemarani\n",
      "\n",
      "ranireema\n",
      "\n",
      "ranireema\n",
      "\n",
      "ranireema\n",
      "\n",
      "ranireema\n",
      "\n",
      "ranireema\n",
      "\n",
      "rani\n",
      "rani\n",
      "bye\n"
     ]
    }
   ],
   "source": [
    "from time import sleep   #we use sleep not to get fast output\n",
    "from threading import *\n",
    "class hello(Thread):\n",
    "    def run(self):\n",
    "        for i in range(10):\n",
    "            print(\"reema\")\n",
    "            sleep(1)\n",
    "    \n",
    "class hey (Thread):\n",
    "    def run(self):\n",
    "        for i in range(10):\n",
    "            print(\"rani\")\n",
    "            sleep(1)\n",
    "a=hello()\n",
    "b=hey()\n",
    "a.start()\n",
    "sleep(2) #to avoid collisions we use sleep here\n",
    "b.start()\n",
    "#here a and b are two threads and main thread also working\n",
    "\n",
    "a.join()  #join is used to say the main thread to cmplt the execution of a and b after that print bye\n",
    "b.join()\n",
    "print('bye')  #this will execute by main thread"
   ]
  },
  {
   "cell_type": "code",
   "execution_count": null,
   "id": "8088ba90",
   "metadata": {},
   "outputs": [],
   "source": []
  }
 ],
 "metadata": {
  "kernelspec": {
   "display_name": "Python 3 (ipykernel)",
   "language": "python",
   "name": "python3"
  },
  "language_info": {
   "codemirror_mode": {
    "name": "ipython",
    "version": 3
   },
   "file_extension": ".py",
   "mimetype": "text/x-python",
   "name": "python",
   "nbconvert_exporter": "python",
   "pygments_lexer": "ipython3",
   "version": "3.9.7"
  }
 },
 "nbformat": 4,
 "nbformat_minor": 5
}
