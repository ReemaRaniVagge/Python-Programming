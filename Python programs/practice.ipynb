{
 "cells": [
  {
   "cell_type": "code",
   "execution_count": 2,
   "id": "2c0446ea",
   "metadata": {},
   "outputs": [
    {
     "name": "stdout",
     "output_type": "stream",
     "text": [
      "enter 1 number4\n",
      "enter 2 number56\n",
      "60\n",
      "-52\n",
      "0.07142857142857142\n",
      "0\n",
      "224\n",
      "5192296858534827628530496329220096\n",
      "4\n",
      "5192296858534827628530496329220096\n"
     ]
    }
   ],
   "source": [
    "#arthimetic operator\n",
    "\n",
    "x=int(input(\"enter 1 number\"))\n",
    "y=int(input(\"enter 2 number\"))\n",
    "print(x+y)\n",
    "print(x-y)\n",
    "print(x/y)\n",
    "print(x//y)\n",
    "print(x*y)\n",
    "print(x**y)\n",
    "print(x%y)\n",
    "print(x**y)"
   ]
  },
  {
   "cell_type": "code",
   "execution_count": 3,
   "id": "312922bf",
   "metadata": {},
   "outputs": [
    {
     "name": "stdout",
     "output_type": "stream",
     "text": [
      "enter 1 number3\n",
      "enter 2 number4\n",
      "4\n",
      "3\n",
      "False\n"
     ]
    }
   ],
   "source": [
    "#logic operator\n",
    "\n",
    "x=int(input(\"enter 1 number\"))\n",
    "y=int(input(\"enter 2 number\"))\n",
    "print(x and y)\n",
    "print(x or y)\n",
    "print(not x)\n",
    "\n"
   ]
  },
  {
   "cell_type": "code",
   "execution_count": 45,
   "id": "e9c8e04c",
   "metadata": {},
   "outputs": [
    {
     "name": "stdout",
     "output_type": "stream",
     "text": [
      "enter number4\n",
      " not prime\n"
     ]
    }
   ],
   "source": [
    "#prime numbers\n",
    "\n",
    "\n",
    "y=int(input(\"enter number\"))\n",
    "for i in range(2,y):\n",
    "    if y%i==0:\n",
    "        print(\" not prime\")\n",
    "        break\n",
    "else:\n",
    "    print(\" prime\")\n",
    "    \n",
    "    \n",
    "\n",
    "            "
   ]
  },
  {
   "cell_type": "code",
   "execution_count": 225,
   "id": "f69dc482",
   "metadata": {},
   "outputs": [
    {
     "name": "stdout",
     "output_type": "stream",
     "text": [
      "enter 1 number42\n",
      "enter 2 number46\n",
      "17.6\n"
     ]
    }
   ],
   "source": [
    "x=int(input(\"enter 1 number\"))\n",
    "y=int(input(\"enter 2 number\"))\n",
    "z=x+y\n",
    "print(z/5)"
   ]
  },
  {
   "cell_type": "code",
   "execution_count": null,
   "id": "f02b680b",
   "metadata": {},
   "outputs": [],
   "source": []
  },
  {
   "cell_type": "code",
   "execution_count": null,
   "id": "3c62280b",
   "metadata": {},
   "outputs": [],
   "source": [
    "int\n",
    "float\n"
   ]
  }
 ],
 "metadata": {
  "kernelspec": {
   "display_name": "Python 3 (ipykernel)",
   "language": "python",
   "name": "python3"
  },
  "language_info": {
   "codemirror_mode": {
    "name": "ipython",
    "version": 3
   },
   "file_extension": ".py",
   "mimetype": "text/x-python",
   "name": "python",
   "nbconvert_exporter": "python",
   "pygments_lexer": "ipython3",
   "version": "3.9.7"
  }
 },
 "nbformat": 4,
 "nbformat_minor": 5
}
